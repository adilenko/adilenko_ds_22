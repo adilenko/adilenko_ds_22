{
 "cells": [
  {
   "cell_type": "markdown",
   "metadata": {},
   "source": [
    "Задание 1\n",
    "Дана переменная, в которой хранится словарь, содержащий гео-метки для каждого пользователя (пример структуры данных приведен ниже). Вам необходимо написать программу, которая выведет на экран множество уникальных гео-меток всех пользователей."
   ]
  },
  {
   "cell_type": "code",
   "execution_count": 1,
   "metadata": {},
   "outputs": [
    {
     "name": "stdout",
     "output_type": "stream",
     "text": [
      "{98, 35, 15, 213, 54, 119}\n"
     ]
    }
   ],
   "source": [
    "ids = {\"user1\": [213, 213, 213, 15, 213],\n",
    "\"user2\": [54, 54, 119, 119, 119],\n",
    "\"user3\": [213, 98, 98, 35]}\n",
    "res = []\n",
    "for  v1 in ids.values():\n",
    "    for v2 in ids.values():\n",
    "        res += set(v1)^set(v2)\n",
    "print(set(res))\n",
    "# Результат: {98, 35, 15, 213, 54, 119}"
   ]
  },
  {
   "cell_type": "markdown",
   "metadata": {},
   "source": [
    "Задание 2\n",
    "Дана переменная, в которой хранится список поисковых запросов пользователя (пример структуры данных приведен ниже). Вам необходимо написать программу, которая выведет на экран распределение количества слов в запросах в требуемом виде."
   ]
  },
  {
   "cell_type": "code",
   "execution_count": 6,
   "metadata": {},
   "outputs": [
    {
     "name": "stdout",
     "output_type": "stream",
     "text": [
      "Number of queries with 2 vords: 42.857142857142854\n",
      "Number of queries with 3 vords: 57.142857142857146\n"
     ]
    }
   ],
   "source": [
    "queries = [\n",
    "\"смотреть сериалы онлайн\",\n",
    "\"новости спорта\",\n",
    "\"афиша кино\",\n",
    "\"курс доллара\",\n",
    "\"сериалы этим летом\",\n",
    "\"курс по питону\",\n",
    "\"сериалы про спорт\",\n",
    "]\n",
    "\n",
    "words = {}\n",
    "queries_num = len(queries)\n",
    "for line in queries:\n",
    "    ln = len(line.split())\n",
    "    if str(ln) in  words:\n",
    "        words[str(ln)] +=  1\n",
    "    else:\n",
    "        words.setdefault(str(ln), 1)\n",
    "\n",
    "for k, v in sorted(words.items(), key= lambda el: el[1]):\n",
    "    print(f\"Number of queries with {k} vords: {(v*100)/queries_num}\")"
   ]
  },
  {
   "cell_type": "markdown",
   "metadata": {},
   "source": [
    "Задание 3\n",
    "Дана переменная, в которой хранится информация о затратах и доходе рекламных кампаний по различным источникам. Необходимо дополнить исходную структуру показателем ROI, который рассчитаем по формуле: (revenue / cost - 1) * 100"
   ]
  },
  {
   "cell_type": "code",
   "execution_count": 8,
   "metadata": {},
   "outputs": [
    {
     "name": "stdout",
     "output_type": "stream",
     "text": [
      "{'adwords': {'revenue': 35, 'cost': 34, 'ROI': 2.94}, 'facebook': {'revenue': 103, 'cost': 110, 'ROI': -6.36}, 'twitter': {'revenue': 11, 'cost': 24, 'ROI': -54.17}, 'vk': {'revenue': 103, 'cost': 98, 'ROI': 5.1}, 'yandex': {'revenue': 179, 'cost': 153, 'ROI': 16.99}}\n"
     ]
    }
   ],
   "source": [
    "results = {\n",
    "\"vk\": {\"revenue\": 103, \"cost\": 98},\n",
    "\"yandex\": {\"revenue\": 179, \"cost\": 153},\n",
    "\"facebook\": {\"revenue\": 103, \"cost\": 110},\n",
    "\"adwords\": {\"revenue\": 35, \"cost\": 34},\n",
    "\"twitter\": {\"revenue\": 11, \"cost\": 24},\n",
    "}\n",
    "\n",
    "for k,v in results.items():\n",
    "    v.update({\"ROI\": round((v[\"revenue\"] / v[\"cost\"] - 1) * 100, 2)})\n",
    "    results[k] = v\n",
    "\n",
    "print(dict(sorted(results.items())))"
   ]
  },
  {
   "cell_type": "markdown",
   "metadata": {},
   "source": [
    "Задание 4\n",
    "Дана переменная, в которой хранится статистика рекламных каналов по объемам продаж (пример структуры данных приведен ниже). Напишите программу, которая возвращает название канала с максимальным объемом продаж"
   ]
  },
  {
   "cell_type": "code",
   "execution_count": 9,
   "metadata": {
    "scrolled": true
   },
   "outputs": [
    {
     "name": "stdout",
     "output_type": "stream",
     "text": [
      "Max: vk\n",
      "Max: vk\n"
     ]
    }
   ],
   "source": [
    "stats = {\"facebook\": 55, \"yandex\": 115, \"vk\": 120, \"google\": 99, \"email\": 42, \"ok\": 98}\n",
    "print(f\"Max: {max(stats, key = stats.get)}\")\n",
    "#OR\n",
    "value = None\n",
    "key = \"\"\n",
    "for k,v in stats.items():\n",
    "    if value is None or v > value:\n",
    "        value, key = v, k\n",
    "print(f\"Max: {key}\")"
   ]
  },
  {
   "cell_type": "markdown",
   "metadata": {},
   "source": [
    "Задание 5 (необязательно)\n",
    "Дан список произвольной длины. Необходимо написать код, который на основе исходного списка составит словарь такого уровня вложенности, какова длина исхондого списка."
   ]
  },
  {
   "cell_type": "code",
   "execution_count": 13,
   "metadata": {},
   "outputs": [
    {
     "name": "stdout",
     "output_type": "stream",
     "text": [
      "{'a': {'b': {'c': {'d': {'e': 'f'}}}}}\n"
     ]
    }
   ],
   "source": [
    "my_list = [\"a\", \"b\", \"c\", \"d\", \"e\", \"f\"]\n",
    "my_dict = {}\n",
    "for i in range(len(my_list)-2,-1,-1):\n",
    "    if not my_dict:\n",
    "        my_dict = {my_list[i]:my_list[i+1]}\n",
    "        continue\n",
    "    my_dict = {my_list[i]:my_dict}\n",
    "\n",
    "print(my_dict)"
   ]
  }
 ],
 "metadata": {
  "kernelspec": {
   "display_name": "Python 3",
   "language": "python",
   "name": "python3"
  },
  "language_info": {
   "codemirror_mode": {
    "name": "ipython",
    "version": 3
   },
   "file_extension": ".py",
   "mimetype": "text/x-python",
   "name": "python",
   "nbconvert_exporter": "python",
   "pygments_lexer": "ipython3",
   "version": "3.8.3"
  }
 },
 "nbformat": 4,
 "nbformat_minor": 4
}
