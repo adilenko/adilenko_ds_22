{
 "cells": [
  {
   "cell_type": "code",
   "execution_count": 3,
   "metadata": {},
   "outputs": [],
   "source": [
    "import json\n",
    "\n",
    "purchases = {}\n",
    "nl = \"\\n\"\n",
    "\n",
    "# class  get_custom_dict_from_file:\n",
    "#     def __init__(self, file, mode, enc):\n",
    "#         self.fl = open(file, mode, encoding=enc)\n",
    "#         self.fl_dict = {}\n",
    "#\n",
    "#     def __enter__(self):\n",
    "#         for line in self.fl:\n",
    "#             tmp_dic = json.loads(line)\n",
    "#             self.fl_dict.update({tmp_dic[\"user_id\"]:tmp_dic[\"category\"]})\n",
    "#         return self\n",
    "#\n",
    "#     def __exit__(self, *args):\n",
    "#         self.fl.close()\n",
    "#\n",
    "# with get_custom_dict_from_file(\"purchase_log.txt\", \"r\", \"utf-8\") as f:\n",
    "#     purchases = f.fl_dict\n",
    "\n",
    "with open(\"purchase_log.txt\", \"r\", encoding=\"utf-8\") as f:\n",
    "    for line in f:\n",
    "        dic = json.loads(line)\n",
    "        purchases.update({dic[\"user_id\"]:dic[\"category\"]})\n",
    "\n",
    "with open(\"visit_log.csv\") as fr:\n",
    "    with open(\"funnel.csv\", \"w\", encoding=\"utf-8\") as fw:\n",
    "        fr.readline()\n",
    "        for ln in fr:\n",
    "            id = ln.split(\",\")[0]\n",
    "            if id in purchases:\n",
    "                ln =ln.strip() + f\",{purchases[id]}{nl}\"\n",
    "                fw.write(ln)"
   ]
  },
  {
   "cell_type": "code",
   "execution_count": null,
   "metadata": {},
   "outputs": [],
   "source": []
  }
 ],
 "metadata": {
  "kernelspec": {
   "display_name": "Python 3",
   "language": "python",
   "name": "python3"
  },
  "language_info": {
   "codemirror_mode": {
    "name": "ipython",
    "version": 3
   },
   "file_extension": ".py",
   "mimetype": "text/x-python",
   "name": "python",
   "nbconvert_exporter": "python",
   "pygments_lexer": "ipython3",
   "version": "3.8.3"
  }
 },
 "nbformat": 4,
 "nbformat_minor": 4
}
