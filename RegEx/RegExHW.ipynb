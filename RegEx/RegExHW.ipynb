{
 "cells": [
  {
   "cell_type": "markdown",
   "metadata": {},
   "source": [
    "\n",
    "Задание 1\n",
    "Напишите функцию, которая принимает на вход строку и проверяет является ли она валидным транспортным номером (1 буква, 3 цифры, 2 буквы, 2-3 цифры). Обратите внимание, что не все буквы кириллического алфавита используются в транспортных номерах."
   ]
  },
  {
   "cell_type": "code",
   "execution_count": null,
   "metadata": {},
   "outputs": [],
   "source": [
    "import re\n",
    "\n",
    "\n",
    "# 1 буква, 3 цифры, 2 буквы, 2-3 цифры\n",
    "def check_number(num):\n",
    "    pattern = r\"[АВЕКМНОРТУХ]{1}\\d{3}[АВЕКМНОРТУХ]{2}\\d{2,3}\"\n",
    "    res = re.match(pattern, num)\n",
    "    if res:\n",
    "        print(\"It is a number\")\n",
    "    else:\n",
    "        print(\"It is not a number\")\n",
    "\n",
    "num = input(\"Enter number: \")\n",
    "check_number(num.upper())\n"
   ]
  },
  {
   "cell_type": "markdown",
   "metadata": {},
   "source": [
    "Задание 2\n",
    "Напишите функцию, которая будет удалять все последовательные повторы слов из заданной строки при помощи регулярных выражений."
   ]
  },
  {
   "cell_type": "code",
   "execution_count": 4,
   "metadata": {},
   "outputs": [
    {
     "name": "stdout",
     "output_type": "stream",
     "text": [
      "Напишите функцию, которая будет удалять все последовательные повторы слов из заданной строки при помощи регулярных выражений.\n"
     ]
    }
   ],
   "source": [
    "def remove_duplicates(text):\n",
    "    pattern = r\"(\\w+)(\\W+\\1)+\"\n",
    "    return re.sub(pattern, r\"\\1\", text)\n",
    "\n",
    "\n",
    "some_string = 'Напишите функцию функцию, которая будет будет будет будет удалять все все все все последовательные повторы слов из из из из заданной строки строки при помощи регулярных выражений.'\n",
    "res = remove_duplicates(some_string)\n",
    "print(res)"
   ]
  },
  {
   "cell_type": "markdown",
   "metadata": {},
   "source": [
    "Задание 3\n",
    "Напишите функцию, которая будет возвращать акроним по переданной в нее строке со словамии"
   ]
  },
  {
   "cell_type": "code",
   "execution_count": 5,
   "metadata": {},
   "outputs": [
    {
     "name": "stdout",
     "output_type": "stream",
     "text": [
      "ММТ\n"
     ]
    }
   ],
   "source": [
    "def acronim(text):\n",
    "    pattern = r\"(\\w)(\\w+\\s*)\"\n",
    "    return re.sub(pattern, r\"\\1\", text).upper()\n",
    "\n",
    "some_words = 'Мир май труд'\n",
    "res = acronim(some_words)\n",
    "print(res)"
   ]
  },
  {
   "cell_type": "markdown",
   "metadata": {},
   "source": [
    "Задание 4\n",
    "Напишите функцию, которая будет принимать на вход список email-адресов и выводить их распределение по доменным зонам."
   ]
  },
  {
   "cell_type": "code",
   "execution_count": 6,
   "metadata": {},
   "outputs": [
    {
     "name": "stdout",
     "output_type": "stream",
     "text": [
      "{'test': 1, 'mail': 1, 'ya': 2, 'gmail': 2}\n"
     ]
    }
   ],
   "source": [
    "def domains(lst):\n",
    "    pattern = r\"(?<=@)(\\w+)\"\n",
    "    res_dict = {}\n",
    "    domains_list = re.findall(pattern, \" \".join(lst))\n",
    "    for item in set(domains_list):\n",
    "        res_dict[item] = domains_list.count(item)\n",
    "    return res_dict\n",
    "\n",
    "emails = ['test@gmail.com', 'xyz@test.in', 'test@ya.ru', 'xyz@mail.ru', 'xyz@ya.ru', 'xyz@gmail.com']\n",
    "res = domains(emails)\n",
    "print(res)"
   ]
  },
  {
   "cell_type": "markdown",
   "metadata": {},
   "source": [
    "Задание 5\n",
    "Напишите функцию, которая будет подсчитывать сколько слов начинается на гласные, а сколько на согласные буквы в тексте (текст может быть написан как с использованием букв кириллицы, так и латиницы)."
   ]
  },
  {
   "cell_type": "code",
   "execution_count": 7,
   "metadata": {},
   "outputs": [
    {
     "name": "stdout",
     "output_type": "stream",
     "text": [
      "30\n",
      "эталонной реализацией python является интерпретатор cpython, поддерживающий большинство активно используемых платформ. он распространяется под свободной лицензией python software foundation license, позволяющей использовать его без ограничений в любых приложениях, включая проприетарные.\n",
      "Слов на гласные буквы: 9\n",
      "Слов на согласные буквы: 21\n"
     ]
    }
   ],
   "source": [
    "def counter(text):\n",
    "    text = text.lower()\n",
    "    words_num = len(text.split())\n",
    "    print(words_num)\n",
    "    print(text)\n",
    "    vowels = r\"(?:^|\\s)([aeiouyаеёиоуыэюя])\"\n",
    "    consonant = r\"(?:^|\\s)([^aeiouyаеёиоуыэюя])\"\n",
    "    res_vowels = re.findall(vowels, text)\n",
    "    res_consonant = re.findall(consonant, text)\n",
    "    print(f\"Слов на гласные буквы: {len(res_vowels)}\")\n",
    "    print(f\"Слов на согласные буквы: {len(res_consonant)}\")\n",
    "\n",
    "some_text = 'Эталонной реализацией Python является интерпретатор CPython, поддерживающий большинство активно ' \\\n",
    "            'используемых платформ. Он распространяется под свободной лицензией Python Software Foundation License, ' \\\n",
    "            'позволяющей использовать его без ограничений в любых приложениях, включая проприетарные.'\n",
    "counter(some_text)"
   ]
  }
 ],
 "metadata": {
  "kernelspec": {
   "display_name": "Python 3",
   "language": "python",
   "name": "python3"
  },
  "language_info": {
   "codemirror_mode": {
    "name": "ipython",
    "version": 3
   },
   "file_extension": ".py",
   "mimetype": "text/x-python",
   "name": "python",
   "nbconvert_exporter": "python",
   "pygments_lexer": "ipython3",
   "version": "3.8.3"
  }
 },
 "nbformat": 4,
 "nbformat_minor": 4
}
