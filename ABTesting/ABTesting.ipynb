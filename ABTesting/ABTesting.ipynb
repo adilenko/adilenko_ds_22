{
 "cells": [
  {
   "cell_type": "markdown",
   "metadata": {},
   "source": [
    "Задание № 1 Вам даны результаты проверки двух препаратов.\n",
    "Требуется:\n",
    "\n",
    "Оценить, есть ли различие в эффекте у этих пациентов?\n",
    "Визуально подтвердить результат\n",
    "A - результаты для группы людей получающих препарат А.\n",
    "\n",
    "B - результаты для другой группы людей, получающих препарат B.\n",
    "\n"
   ]
  },
  {
   "cell_type": "code",
   "execution_count": 2,
   "metadata": {},
   "outputs": [
    {
     "name": "stdout",
     "output_type": "stream",
     "text": [
      "Statistics=4343.000, p=0.054\n"
     ]
    },
    {
     "data": {
      "image/png": "[encoded data removed]",
      "text/plain": [
       "<Figure size 432x288 with 1 Axes>"
      ]
     },
     "metadata": {
      "needs_background": "light"
     },
     "output_type": "display_data"
    }
   ],
   "source": [
    "import numpy as np\n",
    "import pandas as pd\n",
    "import scipy.stats as st\n",
    "import matplotlib.pyplot as plt\n",
    "from scipy.stats import mannwhitneyu\n",
    "\n",
    "\n",
    "np.random.seed(11)\n",
    "A = st.norm.rvs(scale=30, loc=11, size=100)\n",
    "B = A + st.norm.rvs(scale=54, loc=11, size=100)\n",
    "plt.hist(A, bins=25, density = True, color='g')\n",
    "plt.hist(B, bins=25, density = True, color='y')\n",
    "\n",
    "stat, p = mannwhitneyu(A, B)\n",
    "print('Statistics=%.3f, p=%.3f' % (stat, p))\n",
    "# С уровнем доверия 95% различия в  эфектах нет"
   ]
  },
  {
   "cell_type": "markdown",
   "metadata": {},
   "source": [
    "\n",
    "Задание № 2 Вам даны результаты проверки двух препаратов.\n",
    "Требуется:\n",
    "\n",
    "Оценить, есть ли различие в эффекте у этих пациентов?\n",
    "Визуально подтвердить результат\n",
    "А - группа людей без препарата.\n",
    "\n",
    "B - та же группа людей, но получающая препарат"
   ]
  },
  {
   "cell_type": "code",
   "execution_count": 12,
   "metadata": {
    "scrolled": true
   },
   "outputs": [
    {
     "name": "stdout",
     "output_type": "stream",
     "text": [
      "Statistics=1930.000, p=0.041\n"
     ]
    },
    {
     "data": {
      "image/png": "[encoded data removed]",
      "text/plain": [
       "<Figure size 432x288 with 1 Axes>"
      ]
     },
     "metadata": {
      "needs_background": "light"
     },
     "output_type": "display_data"
    }
   ],
   "source": [
    "from scipy.stats import wilcoxon\n",
    "np.random.seed(11)\n",
    "A = st.norm.rvs(scale=30, loc=11, size=100)\n",
    "B = A + st.norm.rvs(scale=54, loc=11, size=100)\n",
    "plt.hist(A, bins=25, density = True, color='g')\n",
    "plt.hist(B, bins=25, density = True, color='y')\n",
    "stat, p = wilcoxon(A, B)\n",
    "print('Statistics=%.3f, p=%.3f' % (stat, p))\n",
    "# С уровнем доверия 95% различия в  эфектах есть"
   ]
  },
  {
   "cell_type": "markdown",
   "metadata": {},
   "source": [
    "Задание № 3 Допустим вы решили устроить дачный эксперимент. Берем и поливаем одни огурцы водой, другие огурцы водой с удобнением, третью группу огурцов будем поливать минералкой.\n",
    "Используя дисперсионный анализ, сделайте выводы о распредлениях результатов. Есть ли эффект от удобрения по сравнению с минералкой?\n",
    "Помимо результата статистического теста, продемонстрируйте отличия визуально с помощью boxplot или hist"
   ]
  },
  {
   "cell_type": "code",
   "execution_count": 17,
   "metadata": {
    "scrolled": false
   },
   "outputs": [
    {
     "data": {
      "image/png": "[encoded data removed]",
      "text/plain": [
       "<Figure size 432x288 with 1 Axes>"
      ]
     },
     "metadata": {
      "needs_background": "light"
     },
     "output_type": "display_data"
    },
    {
     "name": "stdout",
     "output_type": "stream",
     "text": [
      "12.525963044834198 2.924004790632673e-05\n"
     ]
    }
   ],
   "source": [
    "from scipy.stats import f_oneway \n",
    "import seaborn as sns\n",
    "\n",
    "water = [1,2,3,4,2,4,2,4,5,2,3,4,2,1,3,4,3,2,5,1]\n",
    "nutri = [1,2,4,6,5,6,7,5,4,5,6,7,4,3,5,5,6,5,4,3,5]\n",
    "mineral =[2,1,1,3,2,4,2,4,5,4,3,2,3,2,3,1,3,4,5,1,4]\n",
    "\n",
    "plt.boxplot([water,  mineral, nutri])\n",
    "plt.show()\n",
    "F, p = f_oneway(water,  mineral, nutri)\n",
    "print(F, p) \n",
    "# Разница между выборками значима, лучшие результаты получаем для удобрений"
   ]
  },
  {
   "cell_type": "markdown",
   "metadata": {},
   "source": [
    "Cookie Cats"
   ]
  },
  {
   "cell_type": "code",
   "execution_count": 3,
   "metadata": {
    "scrolled": true
   },
   "outputs": [
    {
     "data": {
      "text/html": [
       "<div>\n",
       "<style scoped>\n",
       "    .dataframe tbody tr th:only-of-type {\n",
       "        vertical-align: middle;\n",
       "    }\n",
       "\n",
       "    .dataframe tbody tr th {\n",
       "        vertical-align: top;\n",
       "    }\n",
       "\n",
       "    .dataframe thead th {\n",
       "        text-align: right;\n",
       "    }\n",
       "</style>\n",
       "<table border=\"1\" class=\"dataframe\">\n",
       "  <thead>\n",
       "    <tr style=\"text-align: right;\">\n",
       "      <th></th>\n",
       "      <th>userid</th>\n",
       "      <th>version</th>\n",
       "      <th>sum_gamerounds</th>\n",
       "      <th>retention_1</th>\n",
       "      <th>retention_7</th>\n",
       "    </tr>\n",
       "  </thead>\n",
       "  <tbody>\n",
       "    <tr>\n",
       "      <th>0</th>\n",
       "      <td>116</td>\n",
       "      <td>gate_30</td>\n",
       "      <td>3</td>\n",
       "      <td>False</td>\n",
       "      <td>False</td>\n",
       "    </tr>\n",
       "    <tr>\n",
       "      <th>1</th>\n",
       "      <td>337</td>\n",
       "      <td>gate_30</td>\n",
       "      <td>38</td>\n",
       "      <td>True</td>\n",
       "      <td>False</td>\n",
       "    </tr>\n",
       "    <tr>\n",
       "      <th>2</th>\n",
       "      <td>377</td>\n",
       "      <td>gate_40</td>\n",
       "      <td>165</td>\n",
       "      <td>True</td>\n",
       "      <td>False</td>\n",
       "    </tr>\n",
       "    <tr>\n",
       "      <th>3</th>\n",
       "      <td>483</td>\n",
       "      <td>gate_40</td>\n",
       "      <td>1</td>\n",
       "      <td>False</td>\n",
       "      <td>False</td>\n",
       "    </tr>\n",
       "    <tr>\n",
       "      <th>4</th>\n",
       "      <td>488</td>\n",
       "      <td>gate_40</td>\n",
       "      <td>179</td>\n",
       "      <td>True</td>\n",
       "      <td>True</td>\n",
       "    </tr>\n",
       "  </tbody>\n",
       "</table>\n",
       "</div>"
      ],
      "text/plain": [
       "   userid  version  sum_gamerounds  retention_1  retention_7\n",
       "0     116  gate_30               3        False        False\n",
       "1     337  gate_30              38         True        False\n",
       "2     377  gate_40             165         True        False\n",
       "3     483  gate_40               1        False        False\n",
       "4     488  gate_40             179         True         True"
      ]
     },
     "execution_count": 3,
     "metadata": {},
     "output_type": "execute_result"
    }
   ],
   "source": [
    "\n",
    "cookie_cats = 'https://raw.githubusercontent.com/a-milenkin/datasets_for_t-tests/main/cookie_cats.csv'\n",
    "\n",
    "data = pd.read_csv(cookie_cats, error_bad_lines=False)  # Откроем датасет\n",
    "data.head()"
   ]
  },
  {
   "cell_type": "code",
   "execution_count": 5,
   "metadata": {
    "scrolled": false
   },
   "outputs": [
    {
     "data": {
      "text/html": [
       "<div>\n",
       "<style scoped>\n",
       "    .dataframe tbody tr th:only-of-type {\n",
       "        vertical-align: middle;\n",
       "    }\n",
       "\n",
       "    .dataframe tbody tr th {\n",
       "        vertical-align: top;\n",
       "    }\n",
       "\n",
       "    .dataframe thead th {\n",
       "        text-align: right;\n",
       "    }\n",
       "</style>\n",
       "<table border=\"1\" class=\"dataframe\">\n",
       "  <thead>\n",
       "    <tr style=\"text-align: right;\">\n",
       "      <th></th>\n",
       "      <th>userid</th>\n",
       "      <th>sum_gamerounds</th>\n",
       "      <th>retention_1</th>\n",
       "      <th>retention_7</th>\n",
       "    </tr>\n",
       "    <tr>\n",
       "      <th>version</th>\n",
       "      <th></th>\n",
       "      <th></th>\n",
       "      <th></th>\n",
       "      <th></th>\n",
       "    </tr>\n",
       "  </thead>\n",
       "  <tbody>\n",
       "    <tr>\n",
       "      <th>gate_30</th>\n",
       "      <td>44700</td>\n",
       "      <td>44700</td>\n",
       "      <td>44700</td>\n",
       "      <td>44700</td>\n",
       "    </tr>\n",
       "    <tr>\n",
       "      <th>gate_40</th>\n",
       "      <td>45489</td>\n",
       "      <td>45489</td>\n",
       "      <td>45489</td>\n",
       "      <td>45489</td>\n",
       "    </tr>\n",
       "  </tbody>\n",
       "</table>\n",
       "</div>"
      ],
      "text/plain": [
       "         userid  sum_gamerounds  retention_1  retention_7\n",
       "version                                                  \n",
       "gate_30   44700           44700        44700        44700\n",
       "gate_40   45489           45489        45489        45489"
      ]
     },
     "execution_count": 5,
     "metadata": {},
     "output_type": "execute_result"
    }
   ],
   "source": [
    "data.groupby('version').count()"
   ]
  },
  {
   "cell_type": "code",
   "execution_count": null,
   "metadata": {},
   "outputs": [],
   "source": [
    "# выборка достаточно велика чтоб делать выводы. Хорошо что в обоих выборках приблизительно одинаковое количиство \n",
    "# результатов"
   ]
  },
  {
   "cell_type": "code",
   "execution_count": 7,
   "metadata": {
    "scrolled": true
   },
   "outputs": [
    {
     "data": {
      "image/png": "[encoded data removed]",
      "text/plain": [
       "<Figure size 432x288 with 1 Axes>"
      ]
     },
     "metadata": {
      "needs_background": "light"
     },
     "output_type": "display_data"
    }
   ],
   "source": [
    "# Подсчет количества игроков для каждого количества раундов\n",
    "plot_df = data.groupby('sum_gamerounds')['userid'].count()\n",
    "plot_df.hist(bins=20)  # попробуйте поварировать параметр bins\n",
    "plt.show()\n",
    "\n"
   ]
  },
  {
   "cell_type": "code",
   "execution_count": 17,
   "metadata": {
    "scrolled": true
   },
   "outputs": [
    {
     "data": {
      "image/png": "[encoded data removed]",
      "text/plain": [
       "<Figure size 432x288 with 1 Axes>"
      ]
     },
     "metadata": {
      "needs_background": "light"
     },
     "output_type": "display_data"
    },
    {
     "data": {
      "image/png": "[encoded data removed]",
      "text/plain": [
       "<Figure size 432x288 with 1 Axes>"
      ]
     },
     "metadata": {
      "needs_background": "light"
     },
     "output_type": "display_data"
    }
   ],
   "source": [
    "\n",
    "# # Creating an list with bootstrapped means for each AB-group\n",
    "boot_1d = []\n",
    "for i in range(1000):\n",
    "    boot_mean = data.sample(frac = 1, replace = True).groupby('version')['retention_1'].mean()  #retention_1\n",
    "    boot_1d.append(boot_mean)\n",
    "    \n",
    "# # Преобразование списка в DataFrame\n",
    "boot_1d = pd.DataFrame(boot_1d)\n",
    "    \n",
    "# # A Kernel Density Estimate plot of the bootstrap distributions\n",
    "boot_1d.plot(kind='density', title=\"retention_1\")\n",
    "plt.show()\n",
    "\n",
    "# # Creating an list with bootstrapped means for each AB-group\n",
    "boot_1d = []\n",
    "for i in range(1000):\n",
    "    boot_mean = data.sample(frac = 1, replace = True).groupby('version')['retention_7'].mean()  #retention_7\n",
    "    boot_1d.append(boot_mean)\n",
    "    \n",
    "# # Преобразование списка в DataFrame\n",
    "boot_7d = pd.DataFrame(boot_1d)\n",
    "    \n",
    "# # A Kernel Density Estimate plot of the bootstrap distributions\n",
    "boot_7d.plot(kind='density', title=\"retention_7\")\n",
    "plt.show()"
   ]
  },
  {
   "cell_type": "code",
   "execution_count": null,
   "metadata": {},
   "outputs": [],
   "source": [
    "# Среднии для retention_1 и retention_7 давольно близки, для gate_30  юзеры в среднем заходят в игру чуть чаще\n",
    "#Честно не понял для чего в данном случае используетя бутстрэп, вроде объём выборок достаточно большой. \n",
    "# Или тут какие-то другие предпосылки?\n"
   ]
  },
  {
   "cell_type": "code",
   "execution_count": 29,
   "metadata": {
    "scrolled": true
   },
   "outputs": [
    {
     "name": "stdout",
     "output_type": "stream",
     "text": [
      "Среднии по версиям для sum_gamerounds\n",
      "version\n",
      "gate_30    52.456264\n",
      "gate_40    51.298776\n",
      "Name: sum_gamerounds, dtype: float64\n"
     ]
    },
    {
     "data": {
      "image/png": "[encoded data removed]",
      "text/plain": [
       "<Figure size 432x288 with 1 Axes>"
      ]
     },
     "metadata": {
      "needs_background": "light"
     },
     "output_type": "display_data"
    },
    {
     "name": "stdout",
     "output_type": "stream",
     "text": [
      "Statistics=4343.000, p=0.054\n"
     ]
    }
   ],
   "source": [
    "\n",
    "from scipy.stats import f_oneway \n",
    "from scipy.stats import wilcoxon\n",
    "from scipy.stats import mannwhitneyu\n",
    "import scipy.stats as stats\n",
    "\n",
    "print(\"Среднии по версиям для sum_gamerounds\")\n",
    "print(data.groupby(\"version\")[\"sum_gamerounds\"].mean())\n",
    "\n",
    "plot_df = data[data['version']=='gate_30'].groupby('sum_gamerounds')['userid'].count()\n",
    "plot_df.hist(bins=20, density = True, color=\"g\", alpha=0.5)  # попробуйте поварировать параметр bins\n",
    "\n",
    "plot_df = data[data['version']=='gate_40'].groupby('sum_gamerounds')['userid'].count()\n",
    "plot_df.hist(bins=20, density = True, color=\"y\", alpha=0.5)  # попробуйте поварировать параметр bins\n",
    "plt.show()\n",
    "\n",
    "#распределеня по 'sum_gamerounds' очень похожи, такое впечатление что нет разницы где ставить ворота \n",
    "stat, p = mannwhitneyu(A, B)\n",
    "print('Statistics=%.3f, p=%.3f' % (stat, p))\n",
    "# не можем сказать что различия по \"sum_gamerounds\" значимы\n"
   ]
  },
  {
   "cell_type": "code",
   "execution_count": 19,
   "metadata": {
    "scrolled": true
   },
   "outputs": [
    {
     "name": "stdout",
     "output_type": "stream",
     "text": [
      "ret_1_g30_mean: 0.4481879194630872\n",
      "ret_1_g40_mean: 0.44228274967574577\n",
      "ret_7_g30_mean: 0.19020134228187918\n",
      "ret_7_g40_mean: 0.18200004396667327\n"
     ]
    }
   ],
   "source": [
    "ret_1_g30_mean = data[data['version']=='gate_30'][\"retention_1\"].mean()\n",
    "ret_1_g40_mean = data[data['version']=='gate_40'][\"retention_1\"].mean()\n",
    "print(\"ret_1_g30_mean:\",ret_1_g30_mean)\n",
    "print(\"ret_1_g40_mean:\",ret_1_g40_mean)\n",
    "ret_7_g30_mean = data[data['version']=='gate_30'][\"retention_7\"].mean()\n",
    "ret_7_g40_mean = data[data['version']=='gate_40'][\"retention_7\"].mean()\n",
    "print(\"ret_7_g30_mean:\",ret_7_g30_mean)\n",
    "print(\"ret_7_g40_mean:\",ret_7_g40_mean)\n",
    "\n",
    "#Среднии значения давольно близки, для gate_30 значения немного выше "
   ]
  },
  {
   "cell_type": "code",
   "execution_count": 23,
   "metadata": {},
   "outputs": [
    {
     "name": "stdout",
     "output_type": "stream",
     "text": [
      "ret1_cont_matrix:  [[20034, 24666], [20119, 25370]]\n",
      "ret1_cont_matrix:  [[8502, 36198], [8279, 37210]]\n"
     ]
    }
   ],
   "source": [
    "# проверим слуайны ли различия для retention_1 и retention_7\n",
    "\n",
    "#таблица сопряженности для retention_1\n",
    "ret_1_g30 = data[data['version']=='gate_30'][\"retention_1\"]\n",
    "ret_1_g40 = data[data['version']=='gate_40'][\"retention_1\"]\n",
    "ret_1_g30_visit = ret_1_g30.sum()\n",
    "ret_1_g40_visit = ret_1_g40.sum()\n",
    "ret_1_g30_notvisit = ret_1_g30.count() - ret_1_g30_visit\n",
    "ret_1_g40_notvisit = ret_1_g40.count() - ret_1_g40_visit\n",
    "ret1_cont_matrix = [[ret_1_g30_visit, ret_1_g30_notvisit], [ret_1_g40_visit, ret_1_g40_notvisit]]\n",
    "print(\"ret1_cont_matrix: \", ret1_cont_matrix)\n",
    "\n",
    "#таблица сопряженности для retention_7\n",
    "ret_7_g30 = data[data['version']=='gate_30'][\"retention_7\"]\n",
    "ret_7_g40 = data[data['version']=='gate_40'][\"retention_7\"]\n",
    "ret_7_g30_visit = ret_7_g30.sum()\n",
    "ret_7_g40_visit = ret_7_g40.sum()\n",
    "ret_7_g30_notvisit = ret_7_g30.count() - ret_7_g30_visit\n",
    "ret_7_g40_notvisit = ret_7_g40.count() - ret_7_g40_visit\n",
    "ret7_cont_matrix = [[ret_7_g30_visit, ret_7_g30_notvisit], [ret_7_g40_visit, ret_7_g40_notvisit]]\n",
    "print(\"ret1_cont_matrix: \", ret7_cont_matrix)\n",
    "\n"
   ]
  },
  {
   "cell_type": "code",
   "execution_count": 26,
   "metadata": {
    "scrolled": true
   },
   "outputs": [
    {
     "name": "stdout",
     "output_type": "stream",
     "text": [
      "Statistic value for retention_1:  0.07550476210309086\n",
      "Statistic value for retention_7:  0.0016005742679058301\n"
     ]
    }
   ],
   "source": [
    "ret1_res = stats.chi2_contingency(ret1_cont_matrix, correction=True)\n",
    "print(\"Statistic value for retention_1: \", ret1_res[1])\n",
    "\n",
    "ret7_res = stats.chi2_contingency(ret7_cont_matrix, correction=True)\n",
    "print(\"Statistic value for retention_7: \", ret7_res[1])\n",
    "#при уровне значимости 5%  разлиия для retention_1  для gate_30  и gate_40 не значимы\n",
    "#при уровне значимости 5%  разлиия для retention_7  для gate_30  и gate_40  значимы\n",
    "\n"
   ]
  },
  {
   "cell_type": "code",
   "execution_count": 27,
   "metadata": {},
   "outputs": [],
   "source": [
    "#Итого: \n",
    "# не можем сказать что различия по \"sum_gamerounds\" значимы\n",
    "# различия для retention_1  для gate_30  и gate_40 не значимы\n",
    "# различия для retention_7  для gate_30  и gate_40  значимы\n",
    "# Среднее по retention_7 незначительно больше для gate_30. \n",
    "# Могу предположить что gate_30 лучше, хотя различия незначительны"
   ]
  },
  {
   "cell_type": "code",
   "execution_count": null,
   "metadata": {},
   "outputs": [],
   "source": []
  }
 ],
 "metadata": {
  "kernelspec": {
   "display_name": "Python 3",
   "language": "python",
   "name": "python3"
  },
  "language_info": {
   "codemirror_mode": {
    "name": "ipython",
    "version": 3
   },
   "file_extension": ".py",
   "mimetype": "text/x-python",
   "name": "python",
   "nbconvert_exporter": "python",
   "pygments_lexer": "ipython3",
   "version": "3.8.3"
  }
 },
 "nbformat": 4,
 "nbformat_minor": 4
}
