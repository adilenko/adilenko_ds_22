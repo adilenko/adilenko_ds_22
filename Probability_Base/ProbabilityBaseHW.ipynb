{
 "cells": [
  {
   "cell_type": "code",
   "execution_count": 4,
   "metadata": {},
   "outputs": [],
   "source": [
    "import random\n",
    "import re\n",
    "trials = 500000\n",
    "positiv = 0\n",
    "\n",
    "for ex in range(trials):\n",
    "    val = format(random.randint(000,999), '03d')\n",
    "    if val in [777, 999, 555, 333, 111]:\n",
    "        positiv +=1\n",
    "    elif re.match(r\"\\d77\", val) or re.match(r\"\\d{2}7\", val) or re.match(r\"\\d00\", val) or \\\n",
    "            re.match(r\"\\d{2}0\", val):\n",
    "        positiv +=1\n",
    "prob = (positiv/trials) *100\n",
    "\n",
    "'''\n",
    "Игра не выгодна, вероятность выигрыша 20%\n",
    "'''\n",
    "\n",
    "Out: 20.0202\n",
    "\n"
   ]
  },
  {
   "cell_type": "code",
   "execution_count": 3,
   "metadata": {},
   "outputs": [
    {
     "name": "stdout",
     "output_type": "stream",
     "text": [
      "0.5075000000000001\n"
     ]
    }
   ],
   "source": [
    "'''\n",
    "Игрок в  среднем приобретает  0.51 коп при вложении 1р.\n",
    "'''\n",
    "\n",
    "X = 0.0001 * 200 + 0.0001*100 + 0.0001*50 + 0.0001*15 +  0.0001*10 + 0.01*5 + 0.1*3 + 0.01*2 + 0.1*1\n",
    "print(X)"
   ]
  }
 ],
 "metadata": {
  "kernelspec": {
   "display_name": "Python 3",
   "language": "python",
   "name": "python3"
  },
  "language_info": {
   "codemirror_mode": {
    "name": "ipython",
    "version": 3
   },
   "file_extension": ".py",
   "mimetype": "text/x-python",
   "name": "python",
   "nbconvert_exporter": "python",
   "pygments_lexer": "ipython3",
   "version": "3.8.3"
  }
 },
 "nbformat": 4,
 "nbformat_minor": 4
}
