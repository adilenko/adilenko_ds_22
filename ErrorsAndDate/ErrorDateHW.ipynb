{
 "cells": [
  {
   "cell_type": "markdown",
   "metadata": {},
   "source": [
    "Задание 1\n",
    "Печатные газеты использовали свой формат дат для каждого выпуска. Для каждой газеты из списка напишите формат указанной даты для перевода в объект datetime:\n",
    "The Moscow Times - Wednesday, October 2, 2002\n",
    "The Guardian - Friday, 11.10.13\n",
    "Daily News - Thursday, 18 August 1977\n",
    "\n"
   ]
  },
  {
   "cell_type": "code",
   "execution_count": 6,
   "metadata": {},
   "outputs": [
    {
     "name": "stdout",
     "output_type": "stream",
     "text": [
      "2002-10-02 00:00:00\n",
      "2013-10-11 00:00:00\n",
      "1977-08-18 00:00:00\n"
     ]
    }
   ],
   "source": [
    "from datetime import datetime\n",
    "\n",
    "st1 = \"Wednesday, October 2, 2002\"\n",
    "dt1 = datetime.strptime(st1, \"%A, %B %d, %Y\")\n",
    "print(dt1)\n",
    "\n",
    "st2 = \"Friday, 11.10.13\"\n",
    "dt2 = datetime.strptime(st2,\"%A, %d.%m.%y\")\n",
    "print(dt2)\n",
    "\n",
    "st3 = \"Thursday, 18 August 1977\"\n",
    "dt3 = datetime.strptime(st3, \"%A, %d %B %Y\")\n",
    "print(dt3)"
   ]
  },
  {
   "cell_type": "markdown",
   "metadata": {},
   "source": [
    "Задание 2\n",
    "Дан поток дат в формате YYYY-MM-DD, в которых встречаются некорректные значения:\n",
    "stream = [‘2018-04-02’, ‘2018-02-29’, ‘2018-19-02’]\n",
    "\n",
    "Напишите функцию, которая проверяет эти даты на корректность. Т. е. для каждой даты возвращает True (дата корректна) или False (некорректная дата)."
   ]
  },
  {
   "cell_type": "code",
   "execution_count": 9,
   "metadata": {},
   "outputs": [
    {
     "name": "stdout",
     "output_type": "stream",
     "text": [
      "Date is correct: False\n"
     ]
    }
   ],
   "source": [
    "def check_date(str_date):\n",
    "    try:\n",
    "        for st in str_date:\n",
    "            dt = datetime.strptime(st, \"%Y-%m-%d\")\n",
    "        return True\n",
    "    except:\n",
    "        return False\n",
    "\n",
    "stream = [\"2018-04-02\", \"2018-14-25\", \"2018-11-02\"]\n",
    "print (f\"Date is correct: {check_date(stream)}\")"
   ]
  },
  {
   "cell_type": "markdown",
   "metadata": {},
   "source": [
    "Задание 3\n",
    "Напишите функцию date_range, которая возвращает список дат за период от start_date до end_date. Даты должны вводиться в формате YYYY-MM-DD. В случае неверного формата или при start_date > end_date должен возвращаться пустой список."
   ]
  },
  {
   "cell_type": "code",
   "execution_count": 3,
   "metadata": {
    "scrolled": true
   },
   "outputs": [
    {
     "name": "stdout",
     "output_type": "stream",
     "text": [
      "Enter start date: 2020-10-12\n",
      "Enter end date: 2020-10-11\n",
      "Start Date is greater than End Date\n",
      "[]\n"
     ]
    }
   ],
   "source": [
    "from datetime import datetime, timedelta\n",
    "\n",
    "def pcheck_date(start, end):\n",
    "    try:\n",
    "        dt_list = []\n",
    "        start_dt = datetime.strptime(start, \"%Y-%m-%d\")\n",
    "        end_dt = datetime.strptime(end, \"%Y-%m-%d\")\n",
    "        if start_dt > end_dt: raise ValueError(\"Start Date is greater than End Date\")\n",
    "        cur_dt = start_dt\n",
    "        while cur_dt <= end_dt:\n",
    "            dt_list.append(cur_dt.strftime(\"%Y-%m-%d\"))\n",
    "            cur_dt += timedelta(days=1)\n",
    "        return dt_list\n",
    "    except Exception as err:\n",
    "        print(err.args[0])\n",
    "        return []\n",
    "\n",
    "start_dt = input(\"Enter start date: \")\n",
    "end_dt = input(\"Enter end date: \")\n",
    "print(pcheck_date(start_dt, end_dt))"
   ]
  },
  {
   "cell_type": "code",
   "execution_count": null,
   "metadata": {},
   "outputs": [],
   "source": []
  }
 ],
 "metadata": {
  "kernelspec": {
   "display_name": "Python 3",
   "language": "python",
   "name": "python3"
  },
  "language_info": {
   "codemirror_mode": {
    "name": "ipython",
    "version": 3
   },
   "file_extension": ".py",
   "mimetype": "text/x-python",
   "name": "python",
   "nbconvert_exporter": "python",
   "pygments_lexer": "ipython3",
   "version": "3.8.3"
  }
 },
 "nbformat": 4,
 "nbformat_minor": 4
}
