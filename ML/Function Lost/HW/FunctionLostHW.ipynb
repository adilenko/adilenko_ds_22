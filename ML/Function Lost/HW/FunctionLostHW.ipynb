{
 "cells": [
  {
   "cell_type": "code",
   "execution_count": 20,
   "metadata": {},
   "outputs": [],
   "source": [
    "import matplotlib.pyplot as plt\n",
    "import numpy as np\n",
    "from sklearn import datasets, linear_model\n",
    "from scipy.optimize import approx_fprime\n",
    "import pandas as pd\n",
    "import math"
   ]
  },
  {
   "cell_type": "code",
   "execution_count": 2,
   "metadata": {},
   "outputs": [
    {
     "data": {
      "text/html": [
       "<div>\n",
       "<style scoped>\n",
       "    .dataframe tbody tr th:only-of-type {\n",
       "        vertical-align: middle;\n",
       "    }\n",
       "\n",
       "    .dataframe tbody tr th {\n",
       "        vertical-align: top;\n",
       "    }\n",
       "\n",
       "    .dataframe thead th {\n",
       "        text-align: right;\n",
       "    }\n",
       "</style>\n",
       "<table border=\"1\" class=\"dataframe\">\n",
       "  <thead>\n",
       "    <tr style=\"text-align: right;\">\n",
       "      <th></th>\n",
       "      <th>T1</th>\n",
       "      <th>T2</th>\n",
       "      <th>T3</th>\n",
       "      <th>T4</th>\n",
       "      <th>T5</th>\n",
       "      <th>T6</th>\n",
       "      <th>T7</th>\n",
       "      <th>target</th>\n",
       "    </tr>\n",
       "  </thead>\n",
       "  <tbody>\n",
       "    <tr>\n",
       "      <th>0</th>\n",
       "      <td>0.038076</td>\n",
       "      <td>0.050680</td>\n",
       "      <td>0.061696</td>\n",
       "      <td>0.021872</td>\n",
       "      <td>-0.044223</td>\n",
       "      <td>-0.034821</td>\n",
       "      <td>-0.043401</td>\n",
       "      <td>151.0</td>\n",
       "    </tr>\n",
       "    <tr>\n",
       "      <th>1</th>\n",
       "      <td>-0.001882</td>\n",
       "      <td>-0.044642</td>\n",
       "      <td>-0.051474</td>\n",
       "      <td>-0.026328</td>\n",
       "      <td>-0.008449</td>\n",
       "      <td>-0.019163</td>\n",
       "      <td>0.074412</td>\n",
       "      <td>75.0</td>\n",
       "    </tr>\n",
       "    <tr>\n",
       "      <th>2</th>\n",
       "      <td>0.085299</td>\n",
       "      <td>0.050680</td>\n",
       "      <td>0.044451</td>\n",
       "      <td>-0.005671</td>\n",
       "      <td>-0.045599</td>\n",
       "      <td>-0.034194</td>\n",
       "      <td>-0.032356</td>\n",
       "      <td>141.0</td>\n",
       "    </tr>\n",
       "    <tr>\n",
       "      <th>3</th>\n",
       "      <td>-0.089063</td>\n",
       "      <td>-0.044642</td>\n",
       "      <td>-0.011595</td>\n",
       "      <td>-0.036656</td>\n",
       "      <td>0.012191</td>\n",
       "      <td>0.024991</td>\n",
       "      <td>-0.036038</td>\n",
       "      <td>206.0</td>\n",
       "    </tr>\n",
       "    <tr>\n",
       "      <th>4</th>\n",
       "      <td>0.005383</td>\n",
       "      <td>-0.044642</td>\n",
       "      <td>-0.036385</td>\n",
       "      <td>0.021872</td>\n",
       "      <td>0.003935</td>\n",
       "      <td>0.015596</td>\n",
       "      <td>0.008142</td>\n",
       "      <td>135.0</td>\n",
       "    </tr>\n",
       "    <tr>\n",
       "      <th>...</th>\n",
       "      <td>...</td>\n",
       "      <td>...</td>\n",
       "      <td>...</td>\n",
       "      <td>...</td>\n",
       "      <td>...</td>\n",
       "      <td>...</td>\n",
       "      <td>...</td>\n",
       "      <td>...</td>\n",
       "    </tr>\n",
       "    <tr>\n",
       "      <th>437</th>\n",
       "      <td>0.041708</td>\n",
       "      <td>0.050680</td>\n",
       "      <td>0.019662</td>\n",
       "      <td>0.059744</td>\n",
       "      <td>-0.005697</td>\n",
       "      <td>-0.002566</td>\n",
       "      <td>-0.028674</td>\n",
       "      <td>178.0</td>\n",
       "    </tr>\n",
       "    <tr>\n",
       "      <th>438</th>\n",
       "      <td>-0.005515</td>\n",
       "      <td>0.050680</td>\n",
       "      <td>-0.015906</td>\n",
       "      <td>-0.067642</td>\n",
       "      <td>0.049341</td>\n",
       "      <td>0.079165</td>\n",
       "      <td>-0.028674</td>\n",
       "      <td>104.0</td>\n",
       "    </tr>\n",
       "    <tr>\n",
       "      <th>439</th>\n",
       "      <td>0.041708</td>\n",
       "      <td>0.050680</td>\n",
       "      <td>-0.015906</td>\n",
       "      <td>0.017282</td>\n",
       "      <td>-0.037344</td>\n",
       "      <td>-0.013840</td>\n",
       "      <td>-0.024993</td>\n",
       "      <td>132.0</td>\n",
       "    </tr>\n",
       "    <tr>\n",
       "      <th>440</th>\n",
       "      <td>-0.045472</td>\n",
       "      <td>-0.044642</td>\n",
       "      <td>0.039062</td>\n",
       "      <td>0.001215</td>\n",
       "      <td>0.016318</td>\n",
       "      <td>0.015283</td>\n",
       "      <td>-0.028674</td>\n",
       "      <td>220.0</td>\n",
       "    </tr>\n",
       "    <tr>\n",
       "      <th>441</th>\n",
       "      <td>-0.045472</td>\n",
       "      <td>-0.044642</td>\n",
       "      <td>-0.073030</td>\n",
       "      <td>-0.081414</td>\n",
       "      <td>0.083740</td>\n",
       "      <td>0.027809</td>\n",
       "      <td>0.173816</td>\n",
       "      <td>57.0</td>\n",
       "    </tr>\n",
       "  </tbody>\n",
       "</table>\n",
       "<p>442 rows × 8 columns</p>\n",
       "</div>"
      ],
      "text/plain": [
       "           T1        T2        T3        T4        T5        T6        T7  \\\n",
       "0    0.038076  0.050680  0.061696  0.021872 -0.044223 -0.034821 -0.043401   \n",
       "1   -0.001882 -0.044642 -0.051474 -0.026328 -0.008449 -0.019163  0.074412   \n",
       "2    0.085299  0.050680  0.044451 -0.005671 -0.045599 -0.034194 -0.032356   \n",
       "3   -0.089063 -0.044642 -0.011595 -0.036656  0.012191  0.024991 -0.036038   \n",
       "4    0.005383 -0.044642 -0.036385  0.021872  0.003935  0.015596  0.008142   \n",
       "..        ...       ...       ...       ...       ...       ...       ...   \n",
       "437  0.041708  0.050680  0.019662  0.059744 -0.005697 -0.002566 -0.028674   \n",
       "438 -0.005515  0.050680 -0.015906 -0.067642  0.049341  0.079165 -0.028674   \n",
       "439  0.041708  0.050680 -0.015906  0.017282 -0.037344 -0.013840 -0.024993   \n",
       "440 -0.045472 -0.044642  0.039062  0.001215  0.016318  0.015283 -0.028674   \n",
       "441 -0.045472 -0.044642 -0.073030 -0.081414  0.083740  0.027809  0.173816   \n",
       "\n",
       "     target  \n",
       "0     151.0  \n",
       "1      75.0  \n",
       "2     141.0  \n",
       "3     206.0  \n",
       "4     135.0  \n",
       "..      ...  \n",
       "437   178.0  \n",
       "438   104.0  \n",
       "439   132.0  \n",
       "440   220.0  \n",
       "441    57.0  \n",
       "\n",
       "[442 rows x 8 columns]"
      ]
     },
     "execution_count": 2,
     "metadata": {},
     "output_type": "execute_result"
    }
   ],
   "source": [
    "diabetes = datasets.load_diabetes()\n",
    "y = diabetes.target\n",
    "X = diabetes.data\n",
    "df = pd.DataFrame(X[:,0:7], columns = ['T1','T2','T3','T4','T5','T6','T7'])\n",
    "df[\"target\"] = y\n",
    "df.head()\n",
    "df\n",
    "\n"
   ]
  },
  {
   "cell_type": "code",
   "execution_count": 3,
   "metadata": {},
   "outputs": [],
   "source": [
    "\n",
    "T=(len(X[0])+1) * [1]  # initialize T vector of parameters wit 1 value\n",
    "#linear function f(x) = T0 + T1X1 +T2X2+ ...\n",
    "# Mean Squared Error function\n",
    "def cost_function(X, y, T):\n",
    "    total_cost = 0\n",
    "    for i in range(len(X)):\n",
    "        total_cost += (T[0] + sum([T[j+1]*X[i][j] for j in range(len(X[i]))])-y[i]  ) ** 2\n",
    "    return total_cost / (2 * len(X))"
   ]
  },
  {
   "cell_type": "code",
   "execution_count": 4,
   "metadata": {},
   "outputs": [],
   "source": [
    "\n",
    "def der_theta0(X, y, T):\n",
    "    total_cost = 0\n",
    "    for i in range(len(X)):\n",
    "        total_cost += (T[0] + sum([T[j+1]*X[i][j] for j in range(len(X[i]))])-y[i] )\n",
    "    return total_cost / (len(X)) "
   ]
  },
  {
   "cell_type": "code",
   "execution_count": 5,
   "metadata": {},
   "outputs": [],
   "source": [
    "\n",
    "def der_thetaN(X, y, T, idx):\n",
    "    total_cost = 0\n",
    "    for i in range(len(X)):\n",
    "        total_cost += (T[0] + sum([T[j+1]*X[i][j] for j in range(len(X[i]))])-y[i] ) *X[i][idx]\n",
    "    return total_cost / (len(X)) "
   ]
  },
  {
   "cell_type": "code",
   "execution_count": 6,
   "metadata": {
    "scrolled": true
   },
   "outputs": [],
   "source": [
    "def gradient(X, y, T):\n",
    "    grad = []\n",
    "    grad.append(der_theta0(X, y, T))\n",
    "    for j in range(1, len(T)):\n",
    "        grad.append(der_thetaN(X, y, T, j-1))\n",
    "    return np.asarray(grad)"
   ]
  },
  {
   "cell_type": "code",
   "execution_count": 36,
   "metadata": {
    "scrolled": true
   },
   "outputs": [
    {
     "data": {
      "image/png": "[encoded data removed]",
      "text/plain": [
       "<Figure size 432x288 with 1 Axes>"
      ]
     },
     "metadata": {
      "needs_background": "light"
     },
     "output_type": "display_data"
    },
    {
     "name": "stdout",
     "output_type": "stream",
     "text": [
      "1459.2819580805199\n"
     ]
    }
   ],
   "source": [
    "# Nesterov Momentum\n",
    "\n",
    "T=(len(X[0])+1) * [0.1]  # initialize T vector of parameters wit 1 value\n",
    "EPOCHS = 800\n",
    "momentum = 0.9\n",
    "step_size = 0.1\n",
    "change = [0 for _ in range(len(T))]\n",
    "sol_eval =[]\n",
    "for it in range(EPOCHS):\n",
    "    prT  = [T[i] - momentum*change[i] for i in range(len(T))]\n",
    "    grT = gradient(X, y, prT)\n",
    "    for i in range(len(T)):\n",
    "        change[i]=momentum*change[i] + step_size*grT[i]\n",
    "        T[i] = T[i]-change[i]\n",
    "    sol_eval.append(cost_function(X, y, T))\n",
    "plt.title('Mean Squared Error function changes')    \n",
    "plt.plot(sol_eval)\n",
    "plt.show()\n",
    "print(sol_eval[-1])    \n",
    "# С чем может быть связанно плато в графике изменения Mean Squared Error\n",
    "# Локальный минимум, не верная реализация алгоритма, надо играться с параметрами?\n"
   ]
  },
  {
   "cell_type": "code",
   "execution_count": 37,
   "metadata": {
    "scrolled": true
   },
   "outputs": [
    {
     "data": {
      "image/png": "[encoded data removed]",
      "text/plain": [
       "<Figure size 432x288 with 1 Axes>"
      ]
     },
     "metadata": {
      "needs_background": "light"
     },
     "output_type": "display_data"
    }
   ],
   "source": [
    "# RMSprop\n",
    "T=(len(X[0])+1) * [1]  # initialize T vector of parameters wit 1 value\n",
    "EPOCHS = 800\n",
    "momentum = 0.9\n",
    "step_size = 0.1\n",
    "e = 10**(-8)\n",
    "change = [0 for _ in range(len(T))]\n",
    "sol_eval =[]\n",
    "for it in range(EPOCHS):\n",
    "    grT = gradient(X, y, T)\n",
    "    grT2 = [x**2 for x in grT]\n",
    "    for i in range(len(T)):\n",
    "        change[i]=momentum*change[i] + (1-momentum)*grT2[i]\n",
    "        T[i] = T[i]-step_size* (grT[i]/(math.sqrt(change[i])+e))  \n",
    "    sol_eval.append(cost_function(X, y, T))\n",
    "   \n",
    "plt.title('Mean Squared Error function changes')\n",
    "plt.plot(sol_eval)\n",
    "plt.show()\n"
   ]
  }
 ],
 "metadata": {
  "kernelspec": {
   "display_name": "Python 3",
   "language": "python",
   "name": "python3"
  },
  "language_info": {
   "codemirror_mode": {
    "name": "ipython",
    "version": 3
   },
   "file_extension": ".py",
   "mimetype": "text/x-python",
   "name": "python",
   "nbconvert_exporter": "python",
   "pygments_lexer": "ipython3",
   "version": "3.8.3"
  }
 },
 "nbformat": 4,
 "nbformat_minor": 4
}
