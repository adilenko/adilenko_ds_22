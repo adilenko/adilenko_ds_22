{
 "cells": [
  {
   "cell_type": "markdown",
   "metadata": {},
   "source": [
    "Задание 1\n",
    "\n",
    "Используйте файл с оценками фильмов ml-latest-small/ratings.csv. Посчитайте среднее время жизни пользователей, которые выставили более 100 оценок. Под временем жизни понимается разница между максимальным и минимальным значением столбца timestamp для данного значения userId."
   ]
  },
  {
   "cell_type": "code",
   "execution_count": 3,
   "metadata": {
    "scrolled": true
   },
   "outputs": [
    {
     "name": "stdout",
     "output_type": "stream",
     "text": [
      "     userId   lifetime\n",
      "0         4     203560\n",
      "1         8      85187\n",
      "2        15  471393496\n",
      "3        17       8053\n",
      "4        19       5282\n",
      "..      ...        ...\n",
      "253     656       3053\n",
      "254     659   31609411\n",
      "255     664   98180439\n",
      "256     665   54131471\n",
      "257     671   11283984\n",
      "\n",
      "[258 rows x 2 columns]\n"
     ]
    }
   ],
   "source": [
    "import pandas as pd\n",
    "import numpy as np\n",
    "rating_df = pd.read_csv(\".\\\\ml-latest-small\\\\ratings.csv\")\n",
    "filtered_df = rating_df[\"userId\"].value_counts().reset_index(name='counts')\n",
    "user_ids = filtered_df.loc[filtered_df[\"counts\"] > 100][\"index\"].tolist()\n",
    "res_df = rating_df[rating_df[\"userId\"].isin(user_ids)].groupby(\"userId\")[\"timestamp\"].agg(np.ptp).reset_index(name='lifetime')\n",
    "print(res_df)"
   ]
  },
  {
   "cell_type": "markdown",
   "metadata": {},
   "source": [
    "Задание 2\n",
    "Дана статистика услуг перевозок клиентов компании по типам (см. файл с кодом занятия). Необходимо сформировать две таблицы:\n",
    "таблицу с тремя типами выручки для каждого client_id без указания адреса клиента\n",
    "аналогичную таблицу по типам выручки с указанием адреса клиента"
   ]
  },
  {
   "cell_type": "code",
   "execution_count": 2,
   "metadata": {
    "scrolled": true
   },
   "outputs": [
    {
     "name": "stdout",
     "output_type": "stream",
     "text": [
      "   client_id  rzd_revenue  auto_revenue  air_revenue\n",
      "0        111       1093.0           NaN          NaN\n",
      "1        112       2810.0           NaN          NaN\n",
      "2        113      10283.0       57483.0          NaN\n",
      "3        114       5774.0          83.0          NaN\n",
      "4        115        981.0         912.0         81.0\n",
      "5        116          NaN        4834.0          4.0\n",
      "6        117          NaN          98.0         13.0\n",
      "7        118          NaN           NaN        173.0\n",
      "   client_id  rzd_revenue  auto_revenue  air_revenue          address\n",
      "0        111       1093.0           NaN          NaN  Комсомольская 4\n",
      "1        112       2810.0           NaN          NaN   Энтузиастов 8а\n",
      "2        113      10283.0       57483.0          NaN  Левобережная 1а\n",
      "3        114       5774.0          83.0          NaN          Мира 14\n",
      "4        115        981.0         912.0         81.0        ЗЖБИиДК 1\n",
      "5        116          NaN        4834.0          4.0    Строителей 18\n",
      "6        117          NaN          98.0         13.0  Панфиловская 33\n",
      "7        118          NaN           NaN        173.0     Мастеркова 4\n"
     ]
    }
   ],
   "source": [
    "rzd = pd.DataFrame(\n",
    "    {\n",
    "        'client_id': [111, 112, 113, 114, 115],\n",
    "        'rzd_revenue': [1093, 2810, 10283, 5774, 981]\n",
    "    }\n",
    ")\n",
    "auto = pd.DataFrame(\n",
    "    {\n",
    "        'client_id': [113, 114, 115, 116, 117],\n",
    "        'auto_revenue': [57483, 83, 912, 4834, 98]\n",
    "    }\n",
    ")\n",
    "air = pd.DataFrame(\n",
    "    {\n",
    "        'client_id': [115, 116, 117, 118],\n",
    "        'air_revenue': [81, 4, 13, 173]\n",
    "    }\n",
    ")\n",
    "client_base = pd.DataFrame(\n",
    "    {\n",
    "        'client_id': [111, 112, 113, 114, 115, 116, 117, 118],\n",
    "        'address': ['Комсомольская 4', 'Энтузиастов 8а', 'Левобережная 1а', 'Мира 14', 'ЗЖБИиДК 1',\n",
    "                    'Строителей 18', 'Панфиловская 33', 'Мастеркова 4']\n",
    "    }\n",
    ")\n",
    "\n",
    "res_df = rzd.merge(auto, how='outer', on='client_id')\n",
    "res_df = res_df.merge(air, how='outer', on='client_id')\n",
    "print(res_df)\n",
    "res_df = res_df.merge(client_base, how='outer', on='client_id')\n",
    "print(res_df)"
   ]
  },
  {
   "cell_type": "markdown",
   "metadata": {},
   "source": [
    "Задание 3\n",
    "В задаче сквозной аналитики вам предоставили данные по местоположению пользователей. Т. е. для каждого user_id известна последовательность координат (широта/долгота), когда они требовались приложению для полноценной работы. Как бы вы добавили эти сведения в таблицу визитов и покупок? "
   ]
  },
  {
   "cell_type": "markdown",
   "metadata": {},
   "source": [
    "Добавить таблицы \n",
    "location_id|user_id|location        \n",
    "1          |1      |55.891/36.542\n",
    "2          |1      |55.893/36.541\n",
    "3          |2      |58.111/32.234\n",
    ".................................\n",
    "\n",
    "location_id|location_name |location_desctiption\n",
    "       1   |Home          |Some info about Home for the user 1\n",
    "       2   |Work          |Some info about Work location for the user 1\n",
    "       3   |Home          |Some info about Home location for the user 2\n",
    "   ..................................\n",
    "\n",
    "\n",
    "Разширить таблицу Sales\n",
    "user_id|category|cost|location_id \n",
    "1      |Electro |1   |1\n",
    "1      |Car     |2   |2\n",
    "........................................\n",
    "   "
   ]
  }
 ],
 "metadata": {
  "kernelspec": {
   "display_name": "Python 3",
   "language": "python",
   "name": "python3"
  },
  "language_info": {
   "codemirror_mode": {
    "name": "ipython",
    "version": 3
   },
   "file_extension": ".py",
   "mimetype": "text/x-python",
   "name": "python",
   "nbconvert_exporter": "python",
   "pygments_lexer": "ipython3",
   "version": "3.8.3"
  }
 },
 "nbformat": 4,
 "nbformat_minor": 4
}
