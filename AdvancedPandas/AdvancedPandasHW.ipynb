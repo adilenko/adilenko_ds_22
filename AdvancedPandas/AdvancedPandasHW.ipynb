{
 "cells": [
  {
   "cell_type": "markdown",
   "metadata": {},
   "source": [
    "Задание 1\n",
    "Для датафрейма log из материалов занятия создайте столбец source_type по следующим правилам:\n",
    "\n",
    "если источник traffic_source равен yandex или google, то в source_type ставится organic\n",
    "для источников paid и email из России - ставим ad\n",
    "для источников paid и email не из России - ставим other\n",
    "все остальные варианты берем из traffic_source без изменений"
   ]
  },
  {
   "cell_type": "code",
   "execution_count": 7,
   "metadata": {},
   "outputs": [
    {
     "name": "stdout",
     "output_type": "stream",
     "text": [
      "    timestamp    visit_id                                 url  region  \\\n",
      "0  1549980692  e3b0c44298  https://host.ru/3c19b4ef7371864fa3  Russia   \n",
      "1  1549980704  6e340b9cff  https://host.ru/c8d9213a31839f9a3a  Russia   \n",
      "2  1549980715  96a296d224  https://host.ru/b8b58337d272ee7b15  Russia   \n",
      "3  1549980725  709e80c884  https://host.ru/b8b58337d272ee7b15  Russia   \n",
      "4  1549980736  df3f619804  https://host.ru/b8b58337d272ee7b15  Russia   \n",
      "5  1549980742  8855508aad  https://host.ru/df646c3676cc259fa0  Russia   \n",
      "6  1549980742  b0f66adc83  https://host.ru/b8b58337d272ee7b15  Russia   \n",
      "7  1549980754  837885c8f8  https://host.ru/108ce4b365afb7b88e  Russia   \n",
      "8  1549980760  af5570f5a1  https://host.ru/3004a8273caeef2867   China   \n",
      "9  1549980765  3e7077fd2f  https://host.ru/df646c3676cc259fa0  Russia   \n",
      "\n",
      "      user_id traffic_source traffic_type  \n",
      "0  b1613cc09f         yandex      organic  \n",
      "1  4c3ec14bee         direct       direct  \n",
      "2  a8c40697fb         yandex      organic  \n",
      "3  521ac1d6a0         yandex      organic  \n",
      "4  d7323c571c         yandex      organic  \n",
      "5  fc43898e47         yandex      organic  \n",
      "6  13fc55e781           paid           ad  \n",
      "7  cb5082b6f6         direct       direct  \n",
      "8  45664f7af2         direct       direct  \n",
      "9  6f9de8c8b6          email           ad  \n"
     ]
    }
   ],
   "source": [
    "import pandas as pd\n",
    "from pymystem3 import Mystem\n",
    "\n",
    "df_log = pd.read_csv(\"visit_log.csv\", sep=\";\")\n",
    "df_log.loc[df_log[\"traffic_source\"].isin(['yandex', 'google']), \"traffic_type\"] = \"organic\"\n",
    "df_log.loc[(df_log[\"traffic_source\"].isin(['paid', 'email'])) & (df_log[\"region\"] == \"Russia\"), \"traffic_type\"] = \"ad\"\n",
    "df_log.loc[(df_log[\"traffic_source\"].isin(['paid', 'email'])) & (df_log[\"region\"] != \"Russia\"), \"traffic_type\"] = \"other\"\n",
    "df_log.loc[pd.isnull(df_log[\"traffic_type\"]), \"traffic_type\"] = df_log[\"traffic_source\"]\n",
    "print(df_log.head(10))"
   ]
  },
  {
   "cell_type": "markdown",
   "metadata": {},
   "source": [
    "Задание 2\n",
    "В файле URLs.txt содержатся url страниц новостного сайта. Вам необходимо отфильтровать его по адресам страниц с текстами новостей. Известно, что шаблон страницы новостей имеет внутри url следующую конструкцию: /, затем 8 цифр, затем дефис"
   ]
  },
  {
   "cell_type": "code",
   "execution_count": 4,
   "metadata": {
    "scrolled": true
   },
   "outputs": [
    {
     "name": "stdout",
     "output_type": "stream",
     "text": [
      "                                                  url\n",
      "3   /politics/36188461-s-marta-zhizn-rossiyan-susc...\n",
      "4   /world/36007585-tramp-pridumal-kak-reshit-ukra...\n",
      "5   /science/36157853-nasa-sobiraet-ekstrennuyu-pr...\n",
      "6   /video/36001498-poyavilis-pervye-podrobnosti-g...\n",
      "7   /world/36007585-tramp-pridumal-kak-reshit-ukra...\n",
      "..                                                ...\n",
      "88  /cis/35984145-kreml-prokommentiroval-soobschen...\n",
      "89  /video/36071019-olimpiyskie-obekty-rio-prevrat...\n",
      "90  /science/36151301-nazvano-posledstvie-zloupotr...\n",
      "91  /incidents/36027330-vospitatelnitsu-zatravili-...\n",
      "92  /world/36103095-dominikanskih-zhurnalistov-ubi...\n",
      "\n",
      "[84 rows x 1 columns]\n"
     ]
    }
   ],
   "source": [
    "df_url = pd.read_csv(\"URLs.txt\")\n",
    "rows_before_filter = len(df_url)\n",
    "df_filter_url = df_url.loc[df_url['url'].str.contains(pat=\"\\/\\d{8}-\", regex=True)]\n",
    "rows_after_filter = len(df_filter_url)\n",
    "print(df_filter_url)\n",
    "assert rows_before_filter > rows_after_filter, \"Number of rows in filtered DF should be less then in original\""
   ]
  },
  {
   "cell_type": "markdown",
   "metadata": {},
   "source": [
    "Задание 3\n",
    "В датафрейме data создайте столбец lemmas, в котором вычислите леммы поисковых запросов из столбца keyword. Леммы должны иметь строковый тип.\n"
   ]
  },
  {
   "cell_type": "code",
   "execution_count": 6,
   "metadata": {},
   "outputs": [
    {
     "name": "stdout",
     "output_type": "stream",
     "text": [
      "                 keyword   shows                     lemmas\n",
      "0    курс гривны к рублю  125076  курс, ,гривна, ,к, ,рубль\n",
      "1        доллары в рубли  114173         доллар, ,в, ,рубль\n",
      "2  100 долларов в рублях   97534   100, ,доллар, ,в, ,рубль\n",
      "3             курс рубля   53546               курс, ,рубль\n"
     ]
    }
   ],
   "source": [
    "data = pd.DataFrame({\n",
    "    'keyword': ['курс гривны к рублю', 'доллары в рубли', '100 долларов в рублях', 'курс рубля'],\n",
    "    'shows': [125076, 114173, 97534, 53546],\n",
    "})\n",
    "m = Mystem()\n",
    "data['lemmas'] = data['keyword'].apply(lambda x: ','.join(m.lemmatize(x)[:-1]))\n",
    "print(data)"
   ]
  }
 ],
 "metadata": {
  "kernelspec": {
   "display_name": "Python 3",
   "language": "python",
   "name": "python3"
  },
  "language_info": {
   "codemirror_mode": {
    "name": "ipython",
    "version": 3
   },
   "file_extension": ".py",
   "mimetype": "text/x-python",
   "name": "python",
   "nbconvert_exporter": "python",
   "pygments_lexer": "ipython3",
   "version": "3.8.3"
  }
 },
 "nbformat": 4,
 "nbformat_minor": 4
}
