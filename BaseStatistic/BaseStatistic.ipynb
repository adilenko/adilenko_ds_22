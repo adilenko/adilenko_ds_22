{
 "cells": [
  {
   "cell_type": "code",
   "execution_count": 3,
   "metadata": {},
   "outputs": [
    {
     "name": "stdout",
     "output_type": "stream",
     "text": [
      "          surgery         age  rectal_temp       pulse  muc_membran  \\\n",
      "count  299.000000  300.000000   240.000000  276.000000   253.000000   \n",
      "mean     1.397993    1.640000    38.167917   71.913043     2.853755   \n",
      "std      0.490305    2.173972     0.732289   28.630557     1.620294   \n",
      "min      1.000000    1.000000    35.400000   30.000000     1.000000   \n",
      "25%      1.000000    1.000000    37.800000   48.000000     1.000000   \n",
      "50%      1.000000    1.000000    38.200000   64.000000     3.000000   \n",
      "75%      2.000000    1.000000    38.500000   88.000000     4.000000   \n",
      "max      2.000000    9.000000    40.800000  184.000000     6.000000   \n",
      "mode     1.000000    1.000000    38.000000   48.000000     1.000000   \n",
      "\n",
      "       abd_distension     abdomen     outcome  \n",
      "count      244.000000  182.000000  299.000000  \n",
      "mean         2.266393    3.692308    1.551839  \n",
      "std          1.065131    1.491725    0.737187  \n",
      "min          1.000000    1.000000    1.000000  \n",
      "25%          1.000000    2.000000    1.000000  \n",
      "50%          2.000000    4.000000    1.000000  \n",
      "75%          3.000000    5.000000    2.000000  \n",
      "max          4.000000    5.000000    3.000000  \n",
      "mode         1.000000    5.000000    1.000000  \n"
     ]
    },
    {
     "data": {
      "text/plain": [
       "'\\nБолее чем в 50% и до 75% случаях делали операции\\nБолее 75% старше 6 месяцев\\nСредняя температура ~ 38.2\\nНаиболее частый пульс 48, средний 72 за счёт высоких показателе в отдельных случаях\\nИсходя из цвета слизистой  в ~50% не было серьёзных нарушений, где-то 25% начальный шок и 25% имело серьёзные проблемы включая сепсис \\nБолее чем у половины не было серьёзного вздутия живота где-то от 25% имели такую проблему\\nПримерно в 50% случаев были проблемы с толстым и тонким кишечником требующие хирургического вмешательства\\nБолее 50% лошадей выжали, примерно 25% погибли часть из них вероятно из-за сепсиса\\n'"
      ]
     },
     "execution_count": 3,
     "metadata": {},
     "output_type": "execute_result"
    }
   ],
   "source": [
    "import pandas as pd\n",
    "\n",
    "horse_df = pd.read_csv(\"horse_data.csv\",\n",
    "                   na_values=\"?\",\n",
    "                   usecols=[0,1,3,4,8,12,17,22],\n",
    "                   names=[\"surgery\", \"age\", \"rectal_temp\", \"pulse\", \"muc_membran\", \"abd_distension\",\"abdomen\",\"outcome\"])\n",
    "modes={col:horse_df[col].round().mode()[0] for col in horse_df.columns}\n",
    "horse_df_desc = horse_df.describe()\n",
    "m_series = pd.Series(data=modes, name=\"mode\")\n",
    "horse_df_desc = horse_df_desc.append(m_series, ignore_index=False)\n",
    "print(horse_df_desc)\n",
    "'''\n",
    "Более чем в 50% и до 75% случаях делали операции\n",
    "Более 75% старше 6 месяцев\n",
    "Средняя температура ~ 38.2\n",
    "Наиболее частый пульс 48, средний 72 за счёт высоких показателе в отдельных случаях\n",
    "Исходя из цвета слизистой  в ~50% не было серьёзных нарушений, где-то 25% начальный шок и 25% имело серьёзные проблемы включая сепсис \n",
    "Более чем у половины не было серьёзного вздутия живота где-то от 25% имели такую проблему\n",
    "Примерно в 50% случаев были проблемы с толстым и тонким кишечником требующие хирургического вмешательства\n",
    "Более 50% лошадей выжали, примерно 25% погибли часть из них вероятно из-за сепсиса\n",
    "'''"
   ]
  },
  {
   "cell_type": "code",
   "execution_count": 4,
   "metadata": {
    "scrolled": true
   },
   "outputs": [
    {
     "name": "stdout",
     "output_type": "stream",
     "text": [
      "     surgery  age  rectal_temp  pulse  muc_membran  abd_distension  abdomen  \\\n",
      "20       1.0    1         39.9   72.0          5.0             4.0      4.0   \n",
      "44       1.0    1         35.4  140.0          4.0             NaN      5.0   \n",
      "54       2.0    1         40.3  114.0          1.0             3.0      5.0   \n",
      "75       1.0    9         39.7  100.0          5.0             NaN      NaN   \n",
      "80       1.0    1         36.4   98.0          4.0             2.0      4.0   \n",
      "91       2.0    1         40.3  114.0          1.0             3.0      5.0   \n",
      "99       2.0    1         39.6  108.0          6.0             3.0      5.0   \n",
      "118      1.0    1         36.5   78.0          1.0             1.0      NaN   \n",
      "141      2.0    1         36.0   42.0          5.0             NaN      NaN   \n",
      "238      2.0    1         36.1   88.0          3.0             2.0      4.0   \n",
      "251      2.0    1         36.6   42.0          2.0             1.0      5.0   \n",
      "259      1.0    1         40.8   72.0          1.0             1.0      NaN   \n",
      "281      2.0    1         40.0   78.0          5.0             1.0      1.0   \n",
      "298      1.0    1         36.5  100.0          3.0             3.0      4.0   \n",
      "\n",
      "     outcome  \n",
      "20       1.0  \n",
      "44       3.0  \n",
      "54       3.0  \n",
      "75       3.0  \n",
      "80       2.0  \n",
      "91       2.0  \n",
      "99       1.0  \n",
      "118      1.0  \n",
      "141      2.0  \n",
      "238      3.0  \n",
      "251      2.0  \n",
      "259      2.0  \n",
      "281      2.0  \n",
      "298      1.0  \n",
      "     surgery  age  rectal_temp  pulse  muc_membran  abd_distension  abdomen  \\\n",
      "3        1.0    9         39.1  164.0          6.0             4.0      NaN   \n",
      "41       2.0    9         39.0  150.0          NaN             NaN      NaN   \n",
      "55       1.0    9         38.6  160.0          5.0             4.0      NaN   \n",
      "255      1.0    9         38.8  184.0          1.0             3.0      NaN   \n",
      "275      1.0    9         38.8  150.0          6.0             2.0      NaN   \n",
      "\n",
      "     outcome  \n",
      "3        2.0  \n",
      "41       1.0  \n",
      "55       2.0  \n",
      "255      2.0  \n",
      "275      2.0  \n"
     ]
    },
    {
     "name": "stderr",
     "output_type": "stream",
     "text": [
      "<ipython-input-4-5e458212ef04>:7: UserWarning: Boolean Series key will be reindexed to match DataFrame index.\n",
      "  print(pd.concat([horse_df, remove_outliers]).drop_duplicates(keep=False)[horse_df[\"rectal_temp\"].notna()])\n",
      "<ipython-input-4-5e458212ef04>:16: UserWarning: Boolean Series key will be reindexed to match DataFrame index.\n",
      "  print(pd.concat([horse_df, remove_outliers]).drop_duplicates(keep=False)[horse_df[\"pulse\"].notna()])\n"
     ]
    },
    {
     "data": {
      "text/plain": [
       "'\\nвыбросы по  температуре и пульсу в пределах допустимых значений, я бы оставил всё как есть.\\nРазве что в строки 259 у лошади температура 40.8   при относительно нормальных показателях по другим параметрам,\\nхотя пульс повышен. Тут или не хорактерное заболевание для диагностики которого надо ввести дополнительные параметры,\\nлибо строку с этим выбросом стоит удалить.\\n\\n'"
      ]
     },
     "execution_count": 4,
     "metadata": {},
     "output_type": "execute_result"
    }
   ],
   "source": [
    "q1 = horse_df[\"rectal_temp\"].quantile(0.25)\n",
    "q3 = horse_df[\"rectal_temp\"].quantile(0.75)\n",
    "iqr = q3 - q1\n",
    "lower_bound_tempr = q1 - (1.5 * iqr) \n",
    "upper_bound_tempr = q3 + (1.5 * iqr)\n",
    "remove_outliers = horse_df[horse_df[\"rectal_temp\"].between(lower_bound_tempr, upper_bound_tempr, inclusive=True)]\n",
    "print(pd.concat([horse_df, remove_outliers]).drop_duplicates(keep=False)[horse_df[\"rectal_temp\"].notna()])\n",
    "\n",
    "\n",
    "q1 = horse_df[\"pulse\"].quantile(0.25)\n",
    "q3 = horse_df[\"pulse\"].quantile(0.75)\n",
    "iqr = q3 - q1\n",
    "lower_bound_pulse = q1 - (1.5 * iqr) \n",
    "upper_bound_pulse = q3 + (1.5 * iqr)\n",
    "remove_outliers = horse_df[horse_df[\"pulse\"].between(lower_bound_pulse, upper_bound_pulse, inclusive=True)]\n",
    "print(pd.concat([horse_df, remove_outliers]).drop_duplicates(keep=False)[horse_df[\"pulse\"].notna()])\n",
    "'''\n",
    "выбросы по  температуре и пульсу в пределах допустимых значений, я бы оставил всё как есть.\n",
    "Разве что в строки 259 у лошади температура 40.8   при относительно нормальных показателях по другим параметрам,\n",
    "хотя пульс повышен. Тут или не хорактерное заболевание для диагностики которого надо ввести дополнительные параметры,\n",
    "либо строку с этим выбросом стоит удалить.\n",
    "\n",
    "'''\n"
   ]
  },
  {
   "cell_type": "code",
   "execution_count": 5,
   "metadata": {
    "scrolled": true
   },
   "outputs": [
    {
     "name": "stdout",
     "output_type": "stream",
     "text": [
      "surgery - 0.3%\n",
      "age - 0.0%\n",
      "rectal_temp - 20.0%\n",
      "pulse - 8.0%\n",
      "muc_membran - 15.7%\n",
      "abd_distension - 18.7%\n",
      "abdomen - 39.3%\n",
      "outcome - 0.3%\n"
     ]
    }
   ],
   "source": [
    "for col in horse_df.columns:\n",
    "    pct_missing = horse_df[col].isnull().mean()\n",
    "    print(f'{col} - {pct_missing :.1%}')"
   ]
  },
  {
   "cell_type": "code",
   "execution_count": 25,
   "metadata": {},
   "outputs": [
    {
     "ename": "IndexError",
     "evalue": "index out of bounds",
     "output_type": "error",
     "traceback": [
      "\u001b[1;31m---------------------------------------------------------------------------\u001b[0m",
      "\u001b[1;31mKeyError\u001b[0m                                  Traceback (most recent call last)",
      "\u001b[1;32m~\\anaconda3\\lib\\site-packages\\pandas\\core\\indexes\\base.py\u001b[0m in \u001b[0;36mget_value\u001b[1;34m(self, series, key)\u001b[0m\n\u001b[0;32m   4404\u001b[0m         \u001b[1;32mtry\u001b[0m\u001b[1;33m:\u001b[0m\u001b[1;33m\u001b[0m\u001b[1;33m\u001b[0m\u001b[0m\n\u001b[1;32m-> 4405\u001b[1;33m             \u001b[1;32mreturn\u001b[0m \u001b[0mself\u001b[0m\u001b[1;33m.\u001b[0m\u001b[0m_engine\u001b[0m\u001b[1;33m.\u001b[0m\u001b[0mget_value\u001b[0m\u001b[1;33m(\u001b[0m\u001b[0ms\u001b[0m\u001b[1;33m,\u001b[0m \u001b[0mk\u001b[0m\u001b[1;33m,\u001b[0m \u001b[0mtz\u001b[0m\u001b[1;33m=\u001b[0m\u001b[0mgetattr\u001b[0m\u001b[1;33m(\u001b[0m\u001b[0mseries\u001b[0m\u001b[1;33m.\u001b[0m\u001b[0mdtype\u001b[0m\u001b[1;33m,\u001b[0m \u001b[1;34m\"tz\"\u001b[0m\u001b[1;33m,\u001b[0m \u001b[1;32mNone\u001b[0m\u001b[1;33m)\u001b[0m\u001b[1;33m)\u001b[0m\u001b[1;33m\u001b[0m\u001b[1;33m\u001b[0m\u001b[0m\n\u001b[0m\u001b[0;32m   4406\u001b[0m         \u001b[1;32mexcept\u001b[0m \u001b[0mKeyError\u001b[0m \u001b[1;32mas\u001b[0m \u001b[0me1\u001b[0m\u001b[1;33m:\u001b[0m\u001b[1;33m\u001b[0m\u001b[1;33m\u001b[0m\u001b[0m\n",
      "\u001b[1;32mpandas\\_libs\\index.pyx\u001b[0m in \u001b[0;36mpandas._libs.index.IndexEngine.get_value\u001b[1;34m()\u001b[0m\n",
      "\u001b[1;32mpandas\\_libs\\index.pyx\u001b[0m in \u001b[0;36mpandas._libs.index.IndexEngine.get_value\u001b[1;34m()\u001b[0m\n",
      "\u001b[1;32mpandas\\_libs\\index.pyx\u001b[0m in \u001b[0;36mpandas._libs.index.IndexEngine.get_loc\u001b[1;34m()\u001b[0m\n",
      "\u001b[1;32mpandas\\_libs\\hashtable_class_helper.pxi\u001b[0m in \u001b[0;36mpandas._libs.hashtable.Int64HashTable.get_item\u001b[1;34m()\u001b[0m\n",
      "\u001b[1;32mpandas\\_libs\\hashtable_class_helper.pxi\u001b[0m in \u001b[0;36mpandas._libs.hashtable.Int64HashTable.get_item\u001b[1;34m()\u001b[0m\n",
      "\u001b[1;31mKeyError\u001b[0m: 0",
      "\nDuring handling of the above exception, another exception occurred:\n",
      "\u001b[1;31mIndexError\u001b[0m                                Traceback (most recent call last)",
      "\u001b[1;32m<ipython-input-25-c1479cc722bd>\u001b[0m in \u001b[0;36m<module>\u001b[1;34m\u001b[0m\n\u001b[0;32m     45\u001b[0m \u001b[0mhorse_df\u001b[0m\u001b[1;33m.\u001b[0m\u001b[0mpulse\u001b[0m\u001b[1;33m.\u001b[0m\u001b[0mfillna\u001b[0m\u001b[1;33m(\u001b[0m\u001b[0mhorse_df\u001b[0m\u001b[1;33m.\u001b[0m\u001b[0mgroupby\u001b[0m\u001b[1;33m(\u001b[0m\u001b[1;33m[\u001b[0m\u001b[1;34m'age'\u001b[0m\u001b[1;33m]\u001b[0m\u001b[1;33m)\u001b[0m\u001b[1;33m.\u001b[0m\u001b[0mpulse\u001b[0m\u001b[1;33m.\u001b[0m\u001b[0mtransform\u001b[0m\u001b[1;33m(\u001b[0m\u001b[1;34m'median'\u001b[0m\u001b[1;33m)\u001b[0m\u001b[1;33m,\u001b[0m \u001b[0minplace\u001b[0m\u001b[1;33m=\u001b[0m\u001b[1;32mTrue\u001b[0m\u001b[1;33m)\u001b[0m\u001b[1;33m\u001b[0m\u001b[1;33m\u001b[0m\u001b[0m\n\u001b[0;32m     46\u001b[0m \u001b[1;33m\u001b[0m\u001b[0m\n\u001b[1;32m---> 47\u001b[1;33m \u001b[0mhorse_df\u001b[0m\u001b[1;33m.\u001b[0m\u001b[0mmuc_membran\u001b[0m\u001b[1;33m.\u001b[0m\u001b[0mfillna\u001b[0m\u001b[1;33m(\u001b[0m\u001b[0mhorse_df\u001b[0m\u001b[1;33m.\u001b[0m\u001b[0mgroupby\u001b[0m\u001b[1;33m(\u001b[0m\u001b[1;33m[\u001b[0m\u001b[1;34m\"pulse\"\u001b[0m\u001b[1;33m,\u001b[0m \u001b[1;34m\"rectal_temp\"\u001b[0m\u001b[1;33m]\u001b[0m\u001b[1;33m)\u001b[0m\u001b[1;33m.\u001b[0m\u001b[0mmuc_membran\u001b[0m\u001b[1;33m.\u001b[0m\u001b[0mtransform\u001b[0m\u001b[1;33m(\u001b[0m\u001b[1;32mlambda\u001b[0m \u001b[0mx\u001b[0m\u001b[1;33m:\u001b[0m \u001b[0mx\u001b[0m\u001b[1;33m.\u001b[0m\u001b[0mmode\u001b[0m\u001b[1;33m(\u001b[0m\u001b[1;33m)\u001b[0m\u001b[1;33m[\u001b[0m\u001b[1;36m0\u001b[0m\u001b[1;33m]\u001b[0m\u001b[1;33m)\u001b[0m\u001b[1;33m,\u001b[0m \u001b[0minplace\u001b[0m\u001b[1;33m=\u001b[0m\u001b[1;32mTrue\u001b[0m\u001b[1;33m)\u001b[0m\u001b[1;33m\u001b[0m\u001b[1;33m\u001b[0m\u001b[0m\n\u001b[0m\u001b[0;32m     48\u001b[0m \u001b[1;33m\u001b[0m\u001b[0m\n\u001b[0;32m     49\u001b[0m \u001b[1;32mfor\u001b[0m \u001b[0mcol\u001b[0m \u001b[1;32min\u001b[0m \u001b[0mhorse_df\u001b[0m\u001b[1;33m.\u001b[0m\u001b[0mcolumns\u001b[0m\u001b[1;33m:\u001b[0m\u001b[1;33m\u001b[0m\u001b[1;33m\u001b[0m\u001b[0m\n",
      "\u001b[1;32m~\\anaconda3\\lib\\site-packages\\pandas\\core\\groupby\\generic.py\u001b[0m in \u001b[0;36mtransform\u001b[1;34m(self, func, *args, **kwargs)\u001b[0m\n\u001b[0;32m    463\u001b[0m \u001b[1;33m\u001b[0m\u001b[0m\n\u001b[0;32m    464\u001b[0m         \u001b[1;32mif\u001b[0m \u001b[1;32mnot\u001b[0m \u001b[0misinstance\u001b[0m\u001b[1;33m(\u001b[0m\u001b[0mfunc\u001b[0m\u001b[1;33m,\u001b[0m \u001b[0mstr\u001b[0m\u001b[1;33m)\u001b[0m\u001b[1;33m:\u001b[0m\u001b[1;33m\u001b[0m\u001b[1;33m\u001b[0m\u001b[0m\n\u001b[1;32m--> 465\u001b[1;33m             \u001b[1;32mreturn\u001b[0m \u001b[0mself\u001b[0m\u001b[1;33m.\u001b[0m\u001b[0m_transform_general\u001b[0m\u001b[1;33m(\u001b[0m\u001b[0mfunc\u001b[0m\u001b[1;33m,\u001b[0m \u001b[1;33m*\u001b[0m\u001b[0margs\u001b[0m\u001b[1;33m,\u001b[0m \u001b[1;33m**\u001b[0m\u001b[0mkwargs\u001b[0m\u001b[1;33m)\u001b[0m\u001b[1;33m\u001b[0m\u001b[1;33m\u001b[0m\u001b[0m\n\u001b[0m\u001b[0;32m    466\u001b[0m \u001b[1;33m\u001b[0m\u001b[0m\n\u001b[0;32m    467\u001b[0m         \u001b[1;32melif\u001b[0m \u001b[0mfunc\u001b[0m \u001b[1;32mnot\u001b[0m \u001b[1;32min\u001b[0m \u001b[0mbase\u001b[0m\u001b[1;33m.\u001b[0m\u001b[0mtransform_kernel_whitelist\u001b[0m\u001b[1;33m:\u001b[0m\u001b[1;33m\u001b[0m\u001b[1;33m\u001b[0m\u001b[0m\n",
      "\u001b[1;32m~\\anaconda3\\lib\\site-packages\\pandas\\core\\groupby\\generic.py\u001b[0m in \u001b[0;36m_transform_general\u001b[1;34m(self, func, *args, **kwargs)\u001b[0m\n\u001b[0;32m    487\u001b[0m         \u001b[1;32mfor\u001b[0m \u001b[0mname\u001b[0m\u001b[1;33m,\u001b[0m \u001b[0mgroup\u001b[0m \u001b[1;32min\u001b[0m \u001b[0mself\u001b[0m\u001b[1;33m:\u001b[0m\u001b[1;33m\u001b[0m\u001b[1;33m\u001b[0m\u001b[0m\n\u001b[0;32m    488\u001b[0m             \u001b[0mobject\u001b[0m\u001b[1;33m.\u001b[0m\u001b[0m__setattr__\u001b[0m\u001b[1;33m(\u001b[0m\u001b[0mgroup\u001b[0m\u001b[1;33m,\u001b[0m \u001b[1;34m\"name\"\u001b[0m\u001b[1;33m,\u001b[0m \u001b[0mname\u001b[0m\u001b[1;33m)\u001b[0m\u001b[1;33m\u001b[0m\u001b[1;33m\u001b[0m\u001b[0m\n\u001b[1;32m--> 489\u001b[1;33m             \u001b[0mres\u001b[0m \u001b[1;33m=\u001b[0m \u001b[0mfunc\u001b[0m\u001b[1;33m(\u001b[0m\u001b[0mgroup\u001b[0m\u001b[1;33m,\u001b[0m \u001b[1;33m*\u001b[0m\u001b[0margs\u001b[0m\u001b[1;33m,\u001b[0m \u001b[1;33m**\u001b[0m\u001b[0mkwargs\u001b[0m\u001b[1;33m)\u001b[0m\u001b[1;33m\u001b[0m\u001b[1;33m\u001b[0m\u001b[0m\n\u001b[0m\u001b[0;32m    490\u001b[0m \u001b[1;33m\u001b[0m\u001b[0m\n\u001b[0;32m    491\u001b[0m             \u001b[1;32mif\u001b[0m \u001b[0misinstance\u001b[0m\u001b[1;33m(\u001b[0m\u001b[0mres\u001b[0m\u001b[1;33m,\u001b[0m \u001b[1;33m(\u001b[0m\u001b[0mABCDataFrame\u001b[0m\u001b[1;33m,\u001b[0m \u001b[0mABCSeries\u001b[0m\u001b[1;33m)\u001b[0m\u001b[1;33m)\u001b[0m\u001b[1;33m:\u001b[0m\u001b[1;33m\u001b[0m\u001b[1;33m\u001b[0m\u001b[0m\n",
      "\u001b[1;32m<ipython-input-25-c1479cc722bd>\u001b[0m in \u001b[0;36m<lambda>\u001b[1;34m(x)\u001b[0m\n\u001b[0;32m     45\u001b[0m \u001b[0mhorse_df\u001b[0m\u001b[1;33m.\u001b[0m\u001b[0mpulse\u001b[0m\u001b[1;33m.\u001b[0m\u001b[0mfillna\u001b[0m\u001b[1;33m(\u001b[0m\u001b[0mhorse_df\u001b[0m\u001b[1;33m.\u001b[0m\u001b[0mgroupby\u001b[0m\u001b[1;33m(\u001b[0m\u001b[1;33m[\u001b[0m\u001b[1;34m'age'\u001b[0m\u001b[1;33m]\u001b[0m\u001b[1;33m)\u001b[0m\u001b[1;33m.\u001b[0m\u001b[0mpulse\u001b[0m\u001b[1;33m.\u001b[0m\u001b[0mtransform\u001b[0m\u001b[1;33m(\u001b[0m\u001b[1;34m'median'\u001b[0m\u001b[1;33m)\u001b[0m\u001b[1;33m,\u001b[0m \u001b[0minplace\u001b[0m\u001b[1;33m=\u001b[0m\u001b[1;32mTrue\u001b[0m\u001b[1;33m)\u001b[0m\u001b[1;33m\u001b[0m\u001b[1;33m\u001b[0m\u001b[0m\n\u001b[0;32m     46\u001b[0m \u001b[1;33m\u001b[0m\u001b[0m\n\u001b[1;32m---> 47\u001b[1;33m \u001b[0mhorse_df\u001b[0m\u001b[1;33m.\u001b[0m\u001b[0mmuc_membran\u001b[0m\u001b[1;33m.\u001b[0m\u001b[0mfillna\u001b[0m\u001b[1;33m(\u001b[0m\u001b[0mhorse_df\u001b[0m\u001b[1;33m.\u001b[0m\u001b[0mgroupby\u001b[0m\u001b[1;33m(\u001b[0m\u001b[1;33m[\u001b[0m\u001b[1;34m\"pulse\"\u001b[0m\u001b[1;33m,\u001b[0m \u001b[1;34m\"rectal_temp\"\u001b[0m\u001b[1;33m]\u001b[0m\u001b[1;33m)\u001b[0m\u001b[1;33m.\u001b[0m\u001b[0mmuc_membran\u001b[0m\u001b[1;33m.\u001b[0m\u001b[0mtransform\u001b[0m\u001b[1;33m(\u001b[0m\u001b[1;32mlambda\u001b[0m \u001b[0mx\u001b[0m\u001b[1;33m:\u001b[0m \u001b[0mx\u001b[0m\u001b[1;33m.\u001b[0m\u001b[0mmode\u001b[0m\u001b[1;33m(\u001b[0m\u001b[1;33m)\u001b[0m\u001b[1;33m[\u001b[0m\u001b[1;36m0\u001b[0m\u001b[1;33m]\u001b[0m\u001b[1;33m)\u001b[0m\u001b[1;33m,\u001b[0m \u001b[0minplace\u001b[0m\u001b[1;33m=\u001b[0m\u001b[1;32mTrue\u001b[0m\u001b[1;33m)\u001b[0m\u001b[1;33m\u001b[0m\u001b[1;33m\u001b[0m\u001b[0m\n\u001b[0m\u001b[0;32m     48\u001b[0m \u001b[1;33m\u001b[0m\u001b[0m\n\u001b[0;32m     49\u001b[0m \u001b[1;32mfor\u001b[0m \u001b[0mcol\u001b[0m \u001b[1;32min\u001b[0m \u001b[0mhorse_df\u001b[0m\u001b[1;33m.\u001b[0m\u001b[0mcolumns\u001b[0m\u001b[1;33m:\u001b[0m\u001b[1;33m\u001b[0m\u001b[1;33m\u001b[0m\u001b[0m\n",
      "\u001b[1;32m~\\anaconda3\\lib\\site-packages\\pandas\\core\\series.py\u001b[0m in \u001b[0;36m__getitem__\u001b[1;34m(self, key)\u001b[0m\n\u001b[0;32m    869\u001b[0m         \u001b[0mkey\u001b[0m \u001b[1;33m=\u001b[0m \u001b[0mcom\u001b[0m\u001b[1;33m.\u001b[0m\u001b[0mapply_if_callable\u001b[0m\u001b[1;33m(\u001b[0m\u001b[0mkey\u001b[0m\u001b[1;33m,\u001b[0m \u001b[0mself\u001b[0m\u001b[1;33m)\u001b[0m\u001b[1;33m\u001b[0m\u001b[1;33m\u001b[0m\u001b[0m\n\u001b[0;32m    870\u001b[0m         \u001b[1;32mtry\u001b[0m\u001b[1;33m:\u001b[0m\u001b[1;33m\u001b[0m\u001b[1;33m\u001b[0m\u001b[0m\n\u001b[1;32m--> 871\u001b[1;33m             \u001b[0mresult\u001b[0m \u001b[1;33m=\u001b[0m \u001b[0mself\u001b[0m\u001b[1;33m.\u001b[0m\u001b[0mindex\u001b[0m\u001b[1;33m.\u001b[0m\u001b[0mget_value\u001b[0m\u001b[1;33m(\u001b[0m\u001b[0mself\u001b[0m\u001b[1;33m,\u001b[0m \u001b[0mkey\u001b[0m\u001b[1;33m)\u001b[0m\u001b[1;33m\u001b[0m\u001b[1;33m\u001b[0m\u001b[0m\n\u001b[0m\u001b[0;32m    872\u001b[0m \u001b[1;33m\u001b[0m\u001b[0m\n\u001b[0;32m    873\u001b[0m             \u001b[1;32mif\u001b[0m \u001b[1;32mnot\u001b[0m \u001b[0mis_scalar\u001b[0m\u001b[1;33m(\u001b[0m\u001b[0mresult\u001b[0m\u001b[1;33m)\u001b[0m\u001b[1;33m:\u001b[0m\u001b[1;33m\u001b[0m\u001b[1;33m\u001b[0m\u001b[0m\n",
      "\u001b[1;32m~\\anaconda3\\lib\\site-packages\\pandas\\core\\indexes\\base.py\u001b[0m in \u001b[0;36mget_value\u001b[1;34m(self, series, key)\u001b[0m\n\u001b[0;32m   4409\u001b[0m \u001b[1;33m\u001b[0m\u001b[0m\n\u001b[0;32m   4410\u001b[0m             \u001b[1;32mtry\u001b[0m\u001b[1;33m:\u001b[0m\u001b[1;33m\u001b[0m\u001b[1;33m\u001b[0m\u001b[0m\n\u001b[1;32m-> 4411\u001b[1;33m                 \u001b[1;32mreturn\u001b[0m \u001b[0mlibindex\u001b[0m\u001b[1;33m.\u001b[0m\u001b[0mget_value_at\u001b[0m\u001b[1;33m(\u001b[0m\u001b[0ms\u001b[0m\u001b[1;33m,\u001b[0m \u001b[0mkey\u001b[0m\u001b[1;33m)\u001b[0m\u001b[1;33m\u001b[0m\u001b[1;33m\u001b[0m\u001b[0m\n\u001b[0m\u001b[0;32m   4412\u001b[0m             \u001b[1;32mexcept\u001b[0m \u001b[0mIndexError\u001b[0m\u001b[1;33m:\u001b[0m\u001b[1;33m\u001b[0m\u001b[1;33m\u001b[0m\u001b[0m\n\u001b[0;32m   4413\u001b[0m                 \u001b[1;32mraise\u001b[0m\u001b[1;33m\u001b[0m\u001b[1;33m\u001b[0m\u001b[0m\n",
      "\u001b[1;32mpandas\\_libs\\index.pyx\u001b[0m in \u001b[0;36mpandas._libs.index.get_value_at\u001b[1;34m()\u001b[0m\n",
      "\u001b[1;32mpandas\\_libs\\index.pyx\u001b[0m in \u001b[0;36mpandas._libs.index.get_value_at\u001b[1;34m()\u001b[0m\n",
      "\u001b[1;32mpandas\\_libs\\util.pxd\u001b[0m in \u001b[0;36mpandas._libs.util.get_value_at\u001b[1;34m()\u001b[0m\n",
      "\u001b[1;32mpandas\\_libs\\util.pxd\u001b[0m in \u001b[0;36mpandas._libs.util.validate_indexer\u001b[1;34m()\u001b[0m\n",
      "\u001b[1;31mIndexError\u001b[0m: index out of bounds"
     ]
    }
   ],
   "source": [
    "# fill_median.Age.fillna(titanic.Age.median(), inplace=True)\n",
    "'''\n",
    "Замена предыдущим или последующим значением  не релевантна так как каждая строка описывает случай не зависящий от остальных\n",
    "Буду востанавливать данные с помощью последовательной групировки по разным связанным столбцам, так как не всегда \n",
    "получается заполнить все пропуске с первого раза. Возможно группировка по нескольким столбцам одновременно даёт более точный результат\n",
    "но и оставляет большее количество пробелов, а в случае моды не позволяет вычислить этот показатель на данном наборе данных\n",
    "\n",
    "surgery - категориальная величина часто зависящая от состояния желудка, буду использовать моду и группировку по столбцам \n",
    "описывающих состояние желудка\n",
    "\n",
    "rectal_temp - числовая величина буду использовать медиану как более устойчивую к выбросам, есть зависимость от пульса и \n",
    "цвета слизистой как показателя отображающего общее состояние, плюс возраст\n",
    "\n",
    "pulse - числовая величина описывающая общее состояние. Буду использовать медиану и группировку по температуре и состоянию \n",
    "слизистой, так как эти величины так же описывают общее состояние, плюс возраст \n",
    "\n",
    "muc_membran - категориальная величина, мода. Описывает общее состояния лошади,  скорее всего коррелирует с пульсом и \n",
    "температурой\n",
    "\n",
    "abd_distension категориальная величина, мода. Коррелирует со  состояния желудка  и думая с цветом слизистой.\n",
    "\n",
    "abdomen - категориальная величина, мода. Коррелирует со степенью вздутия желудка и думаю с цветом слизистой.\n",
    "\n",
    "outcome -  категориальная величина, мода. Думаю есть зависимость от возраста.  Возможно было бы лучше групировать по \n",
    "наличию операуии, но такая груптровка не позволяет вычислить моду\n",
    "\n",
    "'''\n",
    "horse_df = pd.read_csv(\"horse_data.csv\",\n",
    "                   na_values=\"?\",\n",
    "                   usecols=[0,1,3,4,8,12,17,22],\n",
    "                   names=[\"surgery\", \"age\", \"rectal_temp\", \"pulse\", \"muc_membran\", \"abd_distension\",\"abdomen\",\"outcome\"])\n",
    "\n",
    "#удалить строки у которых заполненно 3 значения из 8\n",
    "horse_df = horse_df.dropna(thresh=3)\n",
    "\n",
    "horse_df.outcome.fillna(horse_df.groupby([\"age\"]).outcome.transform(lambda x: x.mode()[0]), inplace=True)\n",
    "horse_df.surgery.fillna(horse_df.groupby(['outcome']).surgery.transform(lambda x: x.mode()[0]), inplace=True)\n",
    "\n",
    "horse_df.rectal_temp.fillna(horse_df.groupby(['pulse']).rectal_temp.transform('median'), inplace=True)\n",
    "horse_df.rectal_temp.fillna(horse_df.groupby(['muc_membran']).rectal_temp.transform('median'), inplace=True)\n",
    "horse_df.rectal_temp.fillna(horse_df.groupby(['age']).rectal_temp.transform('median'), inplace=True)\n",
    "\n",
    "horse_df.pulse.fillna(horse_df.groupby(['rectal_temp']).pulse.transform('median'), inplace=True)\n",
    "horse_df.pulse.fillna(horse_df.groupby([\"muc_membran\"]).pulse.transform('median'), inplace=True)\n",
    "horse_df.pulse.fillna(horse_df.groupby(['age']).pulse.transform('median'), inplace=True)\n",
    "\n",
    "horse_df.muc_membran.fillna(horse_df.groupby([\"pulse\", \"rectal_temp\"]).muc_membran.transform(lambda x: x.mode()[0]), inplace=True)\n",
    "\n",
    "for col in horse_df.columns:\n",
    "    pct_missing = horse_df[col].isnull().mean()\n",
    "    print(f'{col} - {pct_missing :.1%}')"
   ]
  }
 ],
 "metadata": {
  "kernelspec": {
   "display_name": "Python 3",
   "language": "python",
   "name": "python3"
  },
  "language_info": {
   "codemirror_mode": {
    "name": "ipython",
    "version": 3
   },
   "file_extension": ".py",
   "mimetype": "text/x-python",
   "name": "python",
   "nbconvert_exporter": "python",
   "pygments_lexer": "ipython3",
   "version": "3.8.3"
  }
 },
 "nbformat": 4,
 "nbformat_minor": 4
}
