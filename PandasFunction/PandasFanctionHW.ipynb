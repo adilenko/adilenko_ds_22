{
 "cells": [
  {
   "cell_type": "markdown",
   "metadata": {},
   "source": [
    "Задание 1**\n",
    "Напишите функцию, которая классифицирует фильмы из материалов занятия по следующим правилам:\n",
    "- оценка 2 и меньше - низкий рейтинг\n",
    "- оценка 4 и меньше - средний рейтинг\n",
    "- оценка 4.5 и 5 - высокий рейтинг\n",
    "\n",
    "Результат классификации запишите в столбец class"
   ]
  },
  {
   "cell_type": "code",
   "execution_count": 3,
   "metadata": {
    "scrolled": true
   },
   "outputs": [
    {
     "name": "stdout",
     "output_type": "stream",
     "text": [
      "                                                  title   class\n",
      "0                                      Toy Story (1995)  middle\n",
      "1                                        Jumanji (1995)  middle\n",
      "2                               Grumpier Old Men (1995)  middle\n",
      "3                              Waiting to Exhale (1995)  middle\n",
      "4                    Father of the Bride Part II (1995)  middle\n",
      "...                                                 ...     ...\n",
      "9120                                Mohenjo Daro (2016)  middle\n",
      "9121                               Shin Godzilla (2016)    None\n",
      "9122  The Beatles: Eight Days a Week - The Touring Y...    high\n",
      "9123                           The Gay Desperado (1936)    None\n",
      "9124                              Women of '69, Unboxed    None\n",
      "\n",
      "[9125 rows x 2 columns]\n"
     ]
    }
   ],
   "source": [
    "import pandas as pd\n",
    "import re\n",
    "\n",
    "\n",
    "def filter_movies(row):\n",
    "    if row[\"rating\"] <= 2:\n",
    "        return \"low\"\n",
    "    if row[\"rating\"] <= 4:\n",
    "        return \"middle\"\n",
    "    if row[\"rating\"] <= 5:\n",
    "        return \"high\"\n",
    "\n",
    "def add_class(row, filtered_df):\n",
    "    if row[\"movieId\"] in filtered_df[\"movieId\"].tolist():\n",
    "        return filtered_df[filtered_df[\"movieId\"] ==\n",
    "row[\"movieId\"]][\"class\"].tolist()[0]\n",
    "\n",
    "df_rait = pd.read_csv(\"ratings.csv\")\n",
    "df_movies = pd.read_csv(\"movies.csv\")\n",
    "# get averrage movie rating\n",
    "df_rait_mean = df_rait.groupby(\"movieId\").mean().reset_index()[[\"movieId\",\n",
    "\"rating\"]]\n",
    "# add class according to averrage movie rating\n",
    "df_rait_mean[\"class\"] = df_rait_mean.groupby(\"movieId\").mean().reset_index().apply(filter_movies, axis=1)\n",
    "# add class column to DF with movies names\n",
    "df_movies[\"class\"] = df_movies.apply(add_class,  axis=1, args=(df_rait_mean, ))\n",
    "print(df_movies[[\"title\", \"class\"]])"
   ]
  },
  {
   "cell_type": "markdown",
   "metadata": {},
   "source": [
    "Задание 2\n",
    "Необходимо написать гео-классификатор, который каждой строке сможет выставить географическую принадлежность определенному региону. Т. е. если поисковый запрос содержит название города региона, то в столбце ‘region’ пишется название этого региона. Если поисковый запрос не содержит названия города, то ставим ‘undefined’."
   ]
  },
  {
   "cell_type": "code",
   "execution_count": 6,
   "metadata": {},
   "outputs": [
    {
     "name": "stdout",
     "output_type": "stream",
     "text": [
      "                                                 keyword   shows        region\n",
      "127                                         авито москва  979292         Центр\n",
      "143                                           эхо москвы  889657         Центр\n",
      "155                   школьный портал московской области  836987         Центр\n",
      "197                                      погода в москве  745745         Центр\n",
      "370                             авито ру санкт петербург  425134  Северо-Запад\n",
      "...                                                  ...     ...           ...\n",
      "99808                  полармед мурманск запись на прием    3719  Северо-Запад\n",
      "99810  услуги московской области школьный портал элек...    3541         Центр\n",
      "99849                               малахитовая шкатулка    3650         Центр\n",
      "99890                                яндекс метро москва    4548         Центр\n",
      "99922                                  авто ру ярославль    3712         Центр\n",
      "\n",
      "[1396 rows x 3 columns]\n"
     ]
    }
   ],
   "source": [
    "regions = {\"Центр\": [\"моск\", \"тул\", \"ярослав\"],\n",
    "\"Северо-Запад\": [\"петербург\", \"псков\", \"мурманск\"],\n",
    "\"Дальний Восток\": [\"владивосток\", \"сахалин\", \"хабаровск\"]}\n",
    "\n",
    "def filtration(request_str, cities_lst):\n",
    "    res = False\n",
    "    for city in cities_lst:\n",
    "        pattern = city + r\"\\w*\"\n",
    "        if re.findall(pattern, request_str):\n",
    "            res = True\n",
    "    return res\n",
    "\n",
    "def geo_filter(request_str):\n",
    "    for k, v in regions.items():\n",
    "        if filtration(request_str, v):\n",
    "            return k\n",
    "    return \"undefined\"\n",
    "\n",
    "data = pd.read_csv(\"keywords.csv\")\n",
    "data[\"region\"] = data[\"keyword\"].apply(geo_filter)\n",
    "print(data[data[\"region\"] != \"undefined\"])\n",
    "data.to_csv(r'new_keywords.csv', index=False)"
   ]
  }
 ],
 "metadata": {
  "kernelspec": {
   "display_name": "Python 3",
   "language": "python",
   "name": "python3"
  },
  "language_info": {
   "codemirror_mode": {
    "name": "ipython",
    "version": 3
   },
   "file_extension": ".py",
   "mimetype": "text/x-python",
   "name": "python",
   "nbconvert_exporter": "python",
   "pygments_lexer": "ipython3",
   "version": "3.8.3"
  }
 },
 "nbformat": 4,
 "nbformat_minor": 4
}
