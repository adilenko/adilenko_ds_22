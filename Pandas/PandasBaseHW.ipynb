{
 "cells": [
  {
   "cell_type": "markdown",
   "metadata": {},
   "source": [
    "Задание 1\n",
    "Скачайте с сайта https://grouplens.org/datasets/movielens/ датасет любого размера. Определите какому фильму было выставлено больше всего оценок 5.0."
   ]
  },
  {
   "cell_type": "code",
   "execution_count": 1,
   "metadata": {
    "scrolled": true
   },
   "outputs": [
    {
     "name": "stdout",
     "output_type": "stream",
     "text": [
      "Shawshank Redemption, The (1994)\n"
     ]
    }
   ],
   "source": [
    "import pandas as pd\n",
    "import requests\n",
    "import json\n",
    "\n",
    "movies_df = pd.read_csv(\".\\\\ml-latest-small\\\\movies.csv\")\n",
    "rating_df = pd.read_csv(\".\\\\ml-latest-small\\\\ratings.csv\")\n",
    "movie_id = rating_df[rating_df[\"rating\"] == 5.0 ][\"movieId\"].value_counts().keys().tolist()[0]\n",
    "movie_name = movies_df[movies_df[\"movieId\"] == movie_id][\"title\"].values[0]\n",
    "print(movie_name)"
   ]
  },
  {
   "cell_type": "markdown",
   "metadata": {},
   "source": [
    "Задание 2\n",
    "По данным файла power.csv посчитайте суммарное потребление стран Прибалтики (Латвия, Литва и Эстония) категорий 4, 12 и 21 за период с 2005 по 2010 года. Не учитывайте в расчетах отрицательные значения quantity."
   ]
  },
  {
   "cell_type": "code",
   "execution_count": 2,
   "metadata": {
    "scrolled": true
   },
   "outputs": [
    {
     "name": "stdout",
     "output_type": "stream",
     "text": [
      "970728.0\n"
     ]
    }
   ],
   "source": [
    "power_df = pd.read_csv(\"power.csv\")\n",
    "total_usage = (power_df[(power_df[\"country\"].isin([\"Latvia\", \"Lithuania\",\"Estonia\"])) &\n",
    "                      (power_df[\"category\"].isin([4,12,21])) & (power_df[\"quantity\"] > 0)][\"quantity\"].sum())\n",
    "print(total_usage)"
   ]
  },
  {
   "cell_type": "markdown",
   "metadata": {},
   "source": [
    "Задание 3\n",
    "Выберите страницу любого сайта с табличными данными. Импортируйте таблицы в pandas dataframe."
   ]
  },
  {
   "cell_type": "code",
   "execution_count": null,
   "metadata": {},
   "outputs": [],
   "source": [
    "page_url=\"https://www.finanz.ru/valyuty/v-realnom-vremeni\"\n",
    "df = pd.read_html(page_url, encoding='utf-8')\n",
    "print(df)\n",
    "\n",
    "response = requests.get('https://www.cbr-xml-daily.ru/daily_json.js')\n",
    "with open(\"myjson.json\", \"w\") as f:\n",
    "    f.write(json.dumps(response.json()[\"Valute\"]))\n",
    "df = pd.read_json(\"myjson.json\")\n",
    "print(df)"
   ]
  }
 ],
 "metadata": {
  "kernelspec": {
   "display_name": "Python 3",
   "language": "python",
   "name": "python3"
  },
  "language_info": {
   "codemirror_mode": {
    "name": "ipython",
    "version": 3
   },
   "file_extension": ".py",
   "mimetype": "text/x-python",
   "name": "python",
   "nbconvert_exporter": "python",
   "pygments_lexer": "ipython3",
   "version": "3.8.3"
  }
 },
 "nbformat": 4,
 "nbformat_minor": 4
}
