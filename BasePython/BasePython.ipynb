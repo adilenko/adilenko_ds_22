{
 "cells": [
  {
   "cell_type": "code",
   "execution_count": 1,
   "metadata": {},
   "outputs": [],
   "source": [
    "# Задание 1\n",
    "# Даны 2 переменных, в которых хранятся строки произвольной длины: phrase_1 и phrase_2.\n",
    "# Напишите код, который проверяет какая из этих строк длиннее."
   ]
  },
  {
   "cell_type": "code",
   "execution_count": 112,
   "metadata": {},
   "outputs": [
    {
     "name": "stdout",
     "output_type": "stream",
     "text": [
      "The second string is longer\n"
     ]
    }
   ],
   "source": [
    "st1 = \"qafd\"\n",
    "st2 = \"fghghghghf\"\n",
    "len(st1) > len(st2)\n",
    "if len(st1) > len(st2):\n",
    "    print(\"The first string is longer\")\n",
    "elif len(st1) < len(st2):\n",
    "    print(\"The second string is longer\")\n",
    "else:\n",
    "    print(\"Strings have the same length\")"
   ]
  },
  {
   "cell_type": "code",
   "execution_count": 18,
   "metadata": {},
   "outputs": [],
   "source": [
    "# Задание 2`\n",
    "# Дана переменная, в которой хранится четырехзначное число (год).\n",
    "# Необходимо написать программу, которая выведет, является ли данный год високосным или обычным."
   ]
  },
  {
   "cell_type": "code",
   "execution_count": 115,
   "metadata": {},
   "outputs": [
    {
     "name": "stdout",
     "output_type": "stream",
     "text": [
      "Enter an year2011\n",
      "It is not a leap year\n"
     ]
    }
   ],
   "source": [
    "year = int(input(\"Enter an year\"))\n",
    "\n",
    "if year % 400 == 0 or (year % 4 == 0 and year % 100 != 0):\n",
    "    print(\"It is a leap year\")\n",
    "else:\n",
    "    print(\"It is not a leap year\")"
   ]
  },
  {
   "cell_type": "code",
   "execution_count": 23,
   "metadata": {},
   "outputs": [],
   "source": [
    "# Задание 3\n",
    "# Необходимо написать программу, которая будет запрашивать у пользователя месяц и дату рождения и \n",
    "# выводить соответствующий знак зодиака."
   ]
  },
  {
   "cell_type": "code",
   "execution_count": 114,
   "metadata": {},
   "outputs": [
    {
     "name": "stdout",
     "output_type": "stream",
     "text": [
      "Enter a day: 23\n",
      "Enter a month (number from 1 to 12): 4\n",
      "Zodiac: Telec\n"
     ]
    }
   ],
   "source": [
    "from datetime import date, datetime\n",
    "\n",
    "day = int(input(\"Enter a day: \"))\n",
    "month = int(input(\"Enter a month (number from 1 to 12): \"))\n",
    "mismatch = False\n",
    "\n",
    "try: \n",
    "    newDate = datetime(date.today().year,month,day)\n",
    "except ValueError:\n",
    "    print(f\"Entered {day}.{month} data is wrong\")\n",
    "    mismatch = True\n",
    "\n",
    "\n",
    "zodiac_dic = {\n",
    "    \"Oven\":[\"21.03\", \"19.04\"],\n",
    "    \"Telec\":[\"20.04\", \"20.05\"],\n",
    "    \"Bliznec\":[\"21.05\",\"20.6\"],\n",
    "    \"Rak\":[\"21.06\",\"22.07\"],\n",
    "    \"Lev\":[\"23.07\",\"22.08\"],\n",
    "    \"Deva\":[\"23.08\", \"22.09\"],\n",
    "    \"Vesi\":[\"23.09\", \"22.10\"],\n",
    "    \"Skorpion\":[\"23.10\", \"21.11\"],\n",
    "    \"Strelec\":[\"22.11\",\"21.12\"],\n",
    "    \"Kozerog\":[\"22.12\", \"19.01\"],\n",
    "    \"Vodolei\":[\"20.01\", \"18.02\"],\n",
    "    \"Ribi\":[\"19.02\", \"20.03\"]     \n",
    "      }\n",
    "\n",
    "for k, v  in zodiac_dic.items():\n",
    "    if mismatch:\n",
    "        break\n",
    "    elif (day >= int(v[0].split(\".\")[0]) and month == int(v[0].split(\".\")[1])) or (day <= int(v[1].split(\".\")[0]) and month == int(v[1].split(\".\")[1])):\n",
    "        print(f\"Zodiac: {k}\")\n",
    "        break\n",
    "\n",
    "    \n",
    "       \n"
   ]
  },
  {
   "cell_type": "code",
   "execution_count": null,
   "metadata": {},
   "outputs": [],
   "source": [
    "# Вам нужно написать программу для подбора упаковок по размерам товара. Размеры хранятся в переменных (в сантиметрах):\n",
    "\n",
    "# width = 10\n",
    "# length = 205\n",
    "# height = 5\n",
    "# Используйте следующие правила:\n",
    "\n",
    "# если каждое из трех измерений менее 15 сантиметров, то выведите на экран “Коробка №1”;\n",
    "# если хотя бы одно из измерений больше 15 сантиметров, но менее 50 сантиметров, то выводите “Коробка №2”;\n",
    "# если длина товара больше 2 метров, то выводите “Упаковка для лыж”;\n",
    "# во всех остальных случаях выводите “Стандартная коробка №3”."
   ]
  },
  {
   "cell_type": "code",
   "execution_count": 102,
   "metadata": {
    "scrolled": true
   },
   "outputs": [
    {
     "name": "stdout",
     "output_type": "stream",
     "text": [
      "Enter a width: 9\n",
      "Enter a length: 9\n",
      "Enter a height: 9\n",
      "Коробка №1\n"
     ]
    }
   ],
   "source": [
    "width = int(input(\"Enter a width: \"))\n",
    "length = int(input(\"Enter a length: \"))\n",
    "height = int(input(\"Enter a height: \"))\n",
    "\n",
    "if width < 15 and length < 15 and height < 15:\n",
    "    print(\"Коробка №1\")\n",
    "elif length > 200:\n",
    "    print(\"Упаковка для лыж\")  \n",
    "elif  15 < width < 50 or 15 < length < 50 or 15 < height < 50:\n",
    "    print(\"Коробка №2\")\n",
    "else:\n",
    "    print(\"Стандартная коробка №3\")"
   ]
  },
  {
   "cell_type": "code",
   "execution_count": null,
   "metadata": {},
   "outputs": [],
   "source": [
    "# Задание 5 (необязательное)\n",
    "# Дана переменная, в которой хранится шестизначное число (номер проездного билета). \n",
    "# Напишите программу, которая будет определять, является ли данный билет “счастливым”.\n",
    "# Билет считается счастливым, если сумма первых трех цифр совпадает с суммой последних трех цифр номера."
   ]
  },
  {
   "cell_type": "code",
   "execution_count": 99,
   "metadata": {
    "scrolled": true
   },
   "outputs": [
    {
     "name": "stdout",
     "output_type": "stream",
     "text": [
      "Enter a number: 123124\n",
      "not lucky\n"
     ]
    }
   ],
   "source": [
    "num = input(\"Enter a number: \")\n",
    "first_sum = sum(list(map(int, num[0:3])))\n",
    "second_sum = sum(list(map(int, num[-3:])))\n",
    "if (first_sum == second_sum):\n",
    "    print(\"lucky\")\n",
    "else:\n",
    "    print(\"not lucky\")"
   ]
  },
  {
   "cell_type": "code",
   "execution_count": 73,
   "metadata": {},
   "outputs": [
    {
     "data": {
      "text/plain": [
       "True"
      ]
     },
     "execution_count": 73,
     "metadata": {},
     "output_type": "execute_result"
    }
   ],
   "source": [
    "\"2\" > \"19\""
   ]
  }
 ],
 "metadata": {
  "kernelspec": {
   "display_name": "Python 3",
   "language": "python",
   "name": "python3"
  },
  "language_info": {
   "codemirror_mode": {
    "name": "ipython",
    "version": 3
   },
   "file_extension": ".py",
   "mimetype": "text/x-python",
   "name": "python",
   "nbconvert_exporter": "python",
   "pygments_lexer": "ipython3",
   "version": "3.8.3"
  }
 },
 "nbformat": 4,
 "nbformat_minor": 4
}
