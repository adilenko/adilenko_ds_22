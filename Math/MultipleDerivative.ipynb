{
 "cells": [
  {
   "cell_type": "code",
   "execution_count": 46,
   "metadata": {},
   "outputs": [],
   "source": [
    "import numpy as np\n",
    "from scipy.optimize import approx_fprime\n",
    "from scipy.optimize import minimize\n",
    "from scipy.misc import derivative\n",
    "import numpy as np\n",
    "import matplotlib.pyplot as plt\n",
    "from sympy import *"
   ]
  },
  {
   "cell_type": "markdown",
   "metadata": {},
   "source": [
    "Уровень 0:\n",
    "Посчитайте частные производные функций:\n",
    "\n",
    "1) $f(x,y)=2x^2y^3 + 1/x + y^2x + 7$, а для этой функции также градиент в точке $(1,2)$\n",
    "\n",
    "2) $f(x,y)=x^2y - sin(xy) + cos(x^2) + 6y$"
   ]
  },
  {
   "cell_type": "code",
   "execution_count": 45,
   "metadata": {
    "scrolled": true
   },
   "outputs": [
    {
     "name": "stdout",
     "output_type": "stream",
     "text": [
      "f(x,y)=2x^2y^3 + 1/x + y^2x + 7\n",
      "Производная по х 4*x*y**3 + y**2 - 1/x**2\n",
      "Производная по y 6*x**2*y**2 + 2*x*y\n",
      "Производная по х в точке [1,2] 4*x*y**3 + y**2 - 1/x**2\n",
      "Производная по y в точке [1,2] 6*x**2*y**2 + 2*x*y\n",
      "Градиент:  [35.0000000000000, 28.0000000000000]\n",
      "\n",
      "f(x,y)=x^2y - sin(xy) + cos(x^2) + 6y\n",
      "Производная по х 2*x*y - 2*x*sin(x**2) - y*cos(x*y)\n",
      "Производная по y x**2 - x*cos(x*y) + 6\n"
     ]
    }
   ],
   "source": [
    "print(\"f(x,y)=2x^2y^3 + 1/x + y^2x + 7\")\n",
    "x, y= symbols('x y')\n",
    "f = 2*x**2*y**3 + 1/x + y**2*x + 7\n",
    "f_x = diff(f,x)\n",
    "print(\"Производная по х\", f_x)\n",
    "f_y = diff(f,y)\n",
    "print(\"Производная по y\", f_y)\n",
    "print(\"Производная по х в точке [1,2]\", f_x)\n",
    "f_x_val = f_x.evalf(subs={x: 1, y:2})\n",
    "print(\"Производная по y в точке [1,2]\", f_y)\n",
    "f_y_val = f_y.evalf(subs={x: 1, y:2})\n",
    "print(\"Градиент: \", [f_x_val, f_y_val])\n",
    "\n",
    "print(\"\\nf(x,y)=x^2y - sin(xy) + cos(x^2) + 6y\")\n",
    "f= x**2*y - sin(x*y) + cos(x**2) + 6*y\n",
    "f_x = diff(f,x)\n",
    "print(\"Производная по х\", f_x)\n",
    "f_y = diff(f,y)\n",
    "print(\"Производная по y\", f_y)\n"
   ]
  },
  {
   "cell_type": "markdown",
   "metadata": {},
   "source": [
    "Градиентный спуск своими руками:"
   ]
  },
  {
   "cell_type": "code",
   "execution_count": 44,
   "metadata": {},
   "outputs": [
    {
     "name": "stdout",
     "output_type": "stream",
     "text": [
      "Минимум достигается в:  [1.29197811e-08 3.32901401e-08]\n",
      "Значение функции в минимуме:  1.2751541739575584e-15\n",
      "Optimization terminated successfully.\n",
      "         Current function value: 0.000000\n",
      "         Iterations: 1\n",
      "         Function evaluations: 3\n",
      " final_simplex: (array([[1.29197811e-08, 3.32901401e-08],\n",
      "       [1.35657701e-08, 3.32901401e-08],\n",
      "       [1.29197811e-08, 3.49546472e-08]]), array([1.27515417e-15, 1.29226355e-15, 1.38874810e-15]))\n",
      "           fun: 1.2751541739575584e-15\n",
      "       message: 'Optimization terminated successfully.'\n",
      "          nfev: 3\n",
      "           nit: 1\n",
      "        status: 0\n",
      "       success: True\n",
      "             x: array([1.29197811e-08, 3.32901401e-08])\n"
     ]
    }
   ],
   "source": [
    "def f(x):\n",
    "    return (x[0]**2) + (x[1]**2)\n",
    "\n",
    "x = np.array([100, 200])\n",
    "learning_rate = 0.1\n",
    "eps = np.sqrt(np.finfo(float).eps)\n",
    "aprox = np.array([1.e-9, 1.e-9])\n",
    "for i in range(100):\n",
    "    # Calculate gradient\n",
    "    grad = approx_fprime(x, f, [eps, eps])\n",
    "    x = x - learning_rate * grad\n",
    "    \n",
    "print(\"Минимум достигается в: \", x)\n",
    "print(\"Значение функции в минимуме: \", f(x))\n",
    "\n",
    "res = minimize(f, x, method='nelder-mead', options={'xtol': 1e-8, 'disp': True})\n",
    "print(res)\n",
    "#Значения полученные вручную и встроенным методом совпадают\n",
    "\n",
    "# Хотел уточнить как при ручной имплементации  корректно проверять что уменьшение значений функций практически перестало \n",
    "# происходить. Сравнивается разница двух последних значений с пороговым значением, или надо проверить что значимое \n",
    "# уменьшение не происходит на протяжении N-ого количества итерации?\n"
   ]
  }
 ],
 "metadata": {
  "kernelspec": {
   "display_name": "Python 3",
   "language": "python",
   "name": "python3"
  },
  "language_info": {
   "codemirror_mode": {
    "name": "ipython",
    "version": 3
   },
   "file_extension": ".py",
   "mimetype": "text/x-python",
   "name": "python",
   "nbconvert_exporter": "python",
   "pygments_lexer": "ipython3",
   "version": "3.8.3"
  }
 },
 "nbformat": 4,
 "nbformat_minor": 4
}
