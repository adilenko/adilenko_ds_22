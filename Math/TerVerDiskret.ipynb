{
 "cells": [
  {
   "cell_type": "code",
   "execution_count": 15,
   "metadata": {},
   "outputs": [],
   "source": [
    "import numpy as np\n",
    "from  math import factorial\n",
    "from random import choice\n",
    "import matplotlib.pyplot as plt"
   ]
  },
  {
   "cell_type": "markdown",
   "metadata": {},
   "source": [
    "Задание 1:\n",
    "Монетку подбрасывают 15 раз, найдите вероятность выпадения простого числа орлов."
   ]
  },
  {
   "cell_type": "code",
   "execution_count": 8,
   "metadata": {
    "scrolled": true
   },
   "outputs": [
    {
     "name": "stdout",
     "output_type": "stream",
     "text": [
      "Вероятность выпадения простого числа орлов 0.3504638671875\n"
     ]
    }
   ],
   "source": [
    "A = [1,2,3,5,7,11,13,15]\n",
    "n=15\n",
    "p=0.5\n",
    "res=0\n",
    "def num_of_successes(n, k):\n",
    "    return factorial(n)/(factorial(k) * factorial(n - k))\n",
    "\n",
    "\n",
    "def probability_of_success(p, n, k):\n",
    "    C_kn = num_of_successes(n, k)\n",
    "    return C_kn * (p**k) * (1 - p)**(n - k)\n",
    "\n",
    "for k in A:\n",
    "    res += probability_of_success(p,n,k)\n",
    "\n",
    "print(\"Вероятность выпадения простого числа орлов\", res)"
   ]
  },
  {
   "cell_type": "markdown",
   "metadata": {},
   "source": [
    "Задание 2\n",
    "Создайте свою дискретную случайную величину с не менее, чем 10 значениями. Просемплируйте 1000 случайных значений, постройте гистограмму плотности распределения по выборке, посчитайте среднее, дисперсию и медиану."
   ]
  },
  {
   "cell_type": "code",
   "execution_count": 28,
   "metadata": {
    "scrolled": false
   },
   "outputs": [
    {
     "name": "stdout",
     "output_type": "stream",
     "text": [
      "Mean 51.898\n",
      "Vaiance 682.457596\n",
      "Median 54.0\n"
     ]
    },
    {
     "data": {
      "image/png": "[encoded data removed]",
      "text/plain": [
       "<Figure size 432x288 with 1 Axes>"
      ]
     },
     "metadata": {
      "needs_background": "light"
     },
     "output_type": "display_data"
    }
   ],
   "source": [
    "\n",
    "V = np.random.randint(low=1, high = 100, size =100)\n",
    "p=0.01\n",
    "val=[]\n",
    "for _ in range(0,1000):\n",
    "    val.append(choice(V))\n",
    "\n",
    "plt.hist(val)\n",
    "print(\"Mean\", np.mean(val))\n",
    "print(\"Vaiance\", np.var(val))\n",
    "print(\"Median\", np.median(val))"
   ]
  },
  {
   "cell_type": "code",
   "execution_count": null,
   "metadata": {},
   "outputs": [],
   "source": []
  },
  {
   "cell_type": "markdown",
   "metadata": {},
   "source": [
    "Задание 3\n",
    "Пусть брошены 3 уравновешенные монеты.\n",
    "Рассмотрим 3 события:\n",
    "A1 - монеты 1 и 2 упали одной и той же стороной;\n",
    "A2 - монеты 2 и 3 упали одной и той же стороной;\n",
    "A3 - монеты 1 и 3 упали одной и той же стороной.\n",
    "Покажите, почему эти 3 события (A1, A2, A3) являются попарно независимыми, но не являются независимыми в совокупности."
   ]
  },
  {
   "cell_type": "markdown",
   "metadata": {},
   "source": [
    "Вероятность пересечение A1 и A2 =  1/4  P(A1)*P(A2) = 1/2 *1/2 = 1/4 => попарно независимы\n",
    "Вероятность пересечение A2 и A3 =  1/4  P(A2)*P(A3) = 1/2 *1/2 = 1/4 => попарно независимы\n",
    "Вероятность пересечение A1 и A3 =  1/4  P(A1)*P(A3) = 1/2 *1/2 = 1/4 => попарно независимы\n",
    "Вероятность пересечения A1, A2, A3 = 1/4 P(A1)*P(A2)*P(A3) = 1/8\n",
    "=> События не являютсяя независимыми в совокупности\n",
    "\n",
    "Результат получил расписав все 8 вариантов на бумаге. Не совсем понятно как в общем случае вычислять вероятность  пересечений событий и вероятность получения k исходов из n с учётом перестановок если работаем с большим объёмом данных"
   ]
  },
  {
   "cell_type": "code",
   "execution_count": null,
   "metadata": {},
   "outputs": [],
   "source": []
  },
  {
   "cell_type": "markdown",
   "metadata": {},
   "source": [
    "Задание 4\n",
    "В магазин привезли устройства с 3-х разных предприятий.\n",
    "\n",
    "Соотношение устройств следующее: 20% - продукция первого предприятия, 30% - продукция второго предприятия, 50% - продукция третьего предприятия; далее, 10% продукции первого предприятия высшего сорта, на втором предприятии - 5% и на третьем - 20% продукции высшего сорта.\n",
    "\n",
    "Найти вероятность того, что случайно купленная новая продукция окажется высшего сорта."
   ]
  },
  {
   "cell_type": "code",
   "execution_count": 20,
   "metadata": {},
   "outputs": [
    {
     "data": {
      "text/plain": [
       "0.135"
      ]
     },
     "execution_count": 20,
     "metadata": {},
     "output_type": "execute_result"
    }
   ],
   "source": [
    "P = 0.2*0.1+ 0.3*0.05 + 0.5*0.2\n",
    "P"
   ]
  }
 ],
 "metadata": {
  "kernelspec": {
   "display_name": "Python 3",
   "language": "python",
   "name": "python3"
  },
  "language_info": {
   "codemirror_mode": {
    "name": "ipython",
    "version": 3
   },
   "file_extension": ".py",
   "mimetype": "text/x-python",
   "name": "python",
   "nbconvert_exporter": "python",
   "pygments_lexer": "ipython3",
   "version": "3.8.3"
  }
 },
 "nbformat": 4,
 "nbformat_minor": 4
}
