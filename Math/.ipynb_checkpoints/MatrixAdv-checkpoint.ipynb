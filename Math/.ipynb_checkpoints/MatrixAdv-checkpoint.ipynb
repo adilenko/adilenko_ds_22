{
 "cells": [
  {
   "cell_type": "markdown",
   "metadata": {},
   "source": [
    "\n",
    "Уровень 0:\n",
    "Придумайте матрицы, которые обладают следующими свойствами:\n",
    "\n",
    "a) Диагональная, ортогональная, но не единичная(!)\n",
    "\n",
    "b) Верхнетреугольная, ортогональная\n",
    "\n",
    "c) Нижнетреугольная, ортогональная\n",
    "\n",
    "d) Матрица, у которой определитель = 1, и все элементы не равны 0\n",
    "\n",
    "P.S. Во всех пунктах ответом должна быть ненулевая матрица размерности не менее 2!\n",
    "\n",
    "Найдите собственные значения и собственные вектора матриц:\n",
    "\n",
    "m = np.array([[2, 2],\n",
    "              [1, 3]])\n",
    "print(m)\n",
    "\n"
   ]
  },
  {
   "cell_type": "code",
   "execution_count": 17,
   "metadata": {
    "scrolled": true
   },
   "outputs": [
    {
     "name": "stdout",
     "output_type": "stream",
     "text": [
      "Диагональная, ортогональная, но не единичная\n",
      "[[-1  0]\n",
      " [ 0 -1]]\n",
      "Верхнетреугольная, ортогональная\n",
      "[[-1  0  0]\n",
      " [ 0  1  0]\n",
      " [ 0  0  1]]\n",
      "Нижнетреугольная, ортогональная\n",
      "[[-1  0  0]\n",
      " [ 0 -1  0]\n",
      " [ 0  0  1]]\n",
      "Матрица, у которой определитель = 1, и все элементы не равны 0\n",
      "[[2.  2. ]\n",
      " [1.5 2. ]]\n",
      "Найдите собственные значения и собственные вектора матриц:\n",
      "[[2 2]\n",
      " [1 3]]\n",
      "Собственные значения [1. 4.]\n",
      "Собственные вектора [[-0.89442719 -0.70710678]\n",
      " [ 0.4472136  -0.70710678]]\n"
     ]
    }
   ],
   "source": [
    "import numpy as np\n",
    "print(\"Диагональная, ортогональная, но не единичная\")\n",
    "m = np.diag([-1,-1])\n",
    "print(m)\n",
    "print(\"Верхнетреугольная, ортогональная\")\n",
    "m = np.diag([-1,1,1])\n",
    "print(m)\n",
    "print(\"Нижнетреугольная, ортогональная\")\n",
    "m = np.diag([-1,-1,1])\n",
    "print(m)\n",
    "print(\"Матрица, у которой определитель = 1, и все элементы не равны 0\")\n",
    "m = np.array([[2,2],[1.5,2]])\n",
    "print(m)\n",
    "print(\"Найдите собственные значения и собственные вектора матриц:\")\n",
    "m = np.array([[2, 2],\n",
    "              [1, 3]])\n",
    "print(m)\n",
    "a, v = np.linalg.eig(m)\n",
    "print(\"Собственные значения\", a)\n",
    "print(\"Собственные вектора\", v)"
   ]
  },
  {
   "cell_type": "markdown",
   "metadata": {},
   "source": [
    "Найдите спектральное разложение матрицы:"
   ]
  },
  {
   "cell_type": "code",
   "execution_count": 23,
   "metadata": {
    "scrolled": true
   },
   "outputs": [
    {
     "name": "stdout",
     "output_type": "stream",
     "text": [
      "[[1 2]\n",
      " [2 3]]\n",
      "[-0.23606798  4.23606798]\n",
      "Матрица из собственных значений:\n",
      "[[-0.23606798  0.        ]\n",
      " [ 0.          4.23606798]]\n",
      "Собственные вектора:\n",
      "[[-0.85065081 -0.52573111]\n",
      " [ 0.52573111 -0.85065081]]\n"
     ]
    },
    {
     "data": {
      "text/plain": [
       "array([[ 1., -2.],\n",
       "       [-2.,  3.]])"
      ]
     },
     "execution_count": 23,
     "metadata": {},
     "output_type": "execute_result"
    }
   ],
   "source": [
    "\n",
    "m = np.array([[1, 2],\n",
    "              [2,3]])\n",
    "print(m)\n",
    "\n",
    "a, S = np.linalg.eig(m)\n",
    "D=np.diag(a)\n",
    "print(a)\n",
    "print('Матрица из собственных значений:')\n",
    "print(D)\n",
    "print('Собственные вектора:')\n",
    "print(S)\n",
    "X = S.T@D@S\n",
    "X\n"
   ]
  },
  {
   "cell_type": "code",
   "execution_count": 50,
   "metadata": {},
   "outputs": [
    {
     "data": {
      "image/png": "[encoded data removed]",
      "text/plain": [
       "<Figure size 288x288 with 1 Axes>"
      ]
     },
     "metadata": {
      "needs_background": "light"
     },
     "output_type": "display_data"
    },
    {
     "name": "stdout",
     "output_type": "stream",
     "text": [
      "(1797, 64)\n",
      "[[ 0.  0.  0. 12. 13.  5.  0.  0.]\n",
      " [ 0.  0.  0. 11. 16.  9.  0.  0.]\n",
      " [ 0.  0.  3. 15. 16.  6.  0.  0.]\n",
      " [ 0.  7. 15. 16. 16.  2.  0.  0.]\n",
      " [ 0.  0.  1. 16. 16.  3.  0.  0.]\n",
      " [ 0.  0.  1. 16. 16.  6.  0.  0.]\n",
      " [ 0.  0.  1. 16. 16.  6.  0.  0.]\n",
      " [ 0.  0.  0. 11. 16. 10.  0.  0.]]\n"
     ]
    },
    {
     "data": {
      "image/png": "[encoded data removed]",
      "text/plain": [
       "<Figure size 432x288 with 1 Axes>"
      ]
     },
     "metadata": {
      "needs_background": "light"
     },
     "output_type": "display_data"
    }
   ],
   "source": [
    "from sklearn.metrics import mean_squared_error\n",
    "from sklearn.datasets import load_digits\n",
    "import matplotlib.pyplot as plt\n",
    "from sklearn.decomposition import PCA\n",
    "import numpy as np\n",
    "\n",
    "mean_error=[]\n",
    "digits = load_digits()\n",
    "plt.matshow(digits.images[1]) \n",
    "plt.show() \n",
    "print(digits.data.shape)\n",
    "X = digits.data[1]\n",
    "X = X.reshape((8, 8))\n",
    "print(X)\n",
    "\n",
    "\n",
    "for n in range(1,9):\n",
    "    pca = PCA(n_components = n)\n",
    "    pca.fit(X)\n",
    "    Xred = pca.transform(X)\n",
    "    X_recov = pca.inverse_transform(Xred)\n",
    "    mean_error.append(mean_squared_error(X, X_recov))\n",
    "    \n",
    "x = list(range(1,9))\n",
    "plt.plot(x, mean_error)\n",
    "plt.xlabel('Number of components')\n",
    "plt.ylabel('Mean squared error') \n",
    "plt.show()"
   ]
  }
 ],
 "metadata": {
  "kernelspec": {
   "display_name": "Python 3",
   "language": "python",
   "name": "python3"
  },
  "language_info": {
   "codemirror_mode": {
    "name": "ipython",
    "version": 3
   },
   "file_extension": ".py",
   "mimetype": "text/x-python",
   "name": "python",
   "nbconvert_exporter": "python",
   "pygments_lexer": "ipython3",
   "version": "3.8.3"
  }
 },
 "nbformat": 4,
 "nbformat_minor": 4
}
